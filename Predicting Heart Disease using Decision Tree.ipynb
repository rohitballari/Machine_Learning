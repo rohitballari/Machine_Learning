{
 "cells": [
  {
   "cell_type": "markdown",
   "id": "08795f3a",
   "metadata": {},
   "source": [
    "### Import Necessary Libraries"
   ]
  },
  {
   "cell_type": "code",
   "execution_count": 1,
   "id": "e06c8ab2",
   "metadata": {},
   "outputs": [],
   "source": [
    "import pandas as pd\n",
    "import numpy as np            \n",
    "import matplotlib.pyplot as plt\n",
    "import seaborn as sns\n",
    "from sklearn.model_selection import train_test_split,cross_val_score\n",
    "from sklearn.metrics import confusion_matrix,classification_report\n",
    "from sklearn.tree import DecisionTreeClassifier\n",
    "from warnings import filterwarnings\n",
    "filterwarnings('ignore')"
   ]
  },
  {
   "cell_type": "code",
   "execution_count": 2,
   "id": "e86aa4de-800d-4b8e-b4c7-5a1e04e99182",
   "metadata": {},
   "outputs": [],
   "source": [
    "from sklearn.tree import plot_tree"
   ]
  },
  {
   "cell_type": "code",
   "execution_count": null,
   "id": "42cf31a7-74ae-4117-a6d9-ec012f3ac4a1",
   "metadata": {},
   "outputs": [],
   "source": []
  },
  {
   "cell_type": "markdown",
   "id": "2730d4cd",
   "metadata": {},
   "source": [
    "### Importing the Dataset"
   ]
  },
  {
   "cell_type": "code",
   "execution_count": 3,
   "id": "04fdccf7",
   "metadata": {},
   "outputs": [
    {
     "data": {
      "text/html": [
       "<div>\n",
       "<style scoped>\n",
       "    .dataframe tbody tr th:only-of-type {\n",
       "        vertical-align: middle;\n",
       "    }\n",
       "\n",
       "    .dataframe tbody tr th {\n",
       "        vertical-align: top;\n",
       "    }\n",
       "\n",
       "    .dataframe thead th {\n",
       "        text-align: right;\n",
       "    }\n",
       "</style>\n",
       "<table border=\"1\" class=\"dataframe\">\n",
       "  <thead>\n",
       "    <tr style=\"text-align: right;\">\n",
       "      <th></th>\n",
       "      <th>0</th>\n",
       "      <th>1</th>\n",
       "      <th>2</th>\n",
       "      <th>3</th>\n",
       "      <th>4</th>\n",
       "      <th>5</th>\n",
       "      <th>6</th>\n",
       "      <th>7</th>\n",
       "      <th>8</th>\n",
       "      <th>9</th>\n",
       "      <th>10</th>\n",
       "      <th>11</th>\n",
       "      <th>12</th>\n",
       "      <th>13</th>\n",
       "    </tr>\n",
       "  </thead>\n",
       "  <tbody>\n",
       "    <tr>\n",
       "      <th>0</th>\n",
       "      <td>63.0</td>\n",
       "      <td>1.0</td>\n",
       "      <td>1.0</td>\n",
       "      <td>145.0</td>\n",
       "      <td>233.0</td>\n",
       "      <td>1.0</td>\n",
       "      <td>2.0</td>\n",
       "      <td>150.0</td>\n",
       "      <td>0.0</td>\n",
       "      <td>2.3</td>\n",
       "      <td>3.0</td>\n",
       "      <td>0.0</td>\n",
       "      <td>6.0</td>\n",
       "      <td>0</td>\n",
       "    </tr>\n",
       "    <tr>\n",
       "      <th>1</th>\n",
       "      <td>67.0</td>\n",
       "      <td>1.0</td>\n",
       "      <td>4.0</td>\n",
       "      <td>160.0</td>\n",
       "      <td>286.0</td>\n",
       "      <td>0.0</td>\n",
       "      <td>2.0</td>\n",
       "      <td>108.0</td>\n",
       "      <td>1.0</td>\n",
       "      <td>1.5</td>\n",
       "      <td>2.0</td>\n",
       "      <td>3.0</td>\n",
       "      <td>3.0</td>\n",
       "      <td>2</td>\n",
       "    </tr>\n",
       "    <tr>\n",
       "      <th>2</th>\n",
       "      <td>67.0</td>\n",
       "      <td>1.0</td>\n",
       "      <td>4.0</td>\n",
       "      <td>120.0</td>\n",
       "      <td>229.0</td>\n",
       "      <td>0.0</td>\n",
       "      <td>2.0</td>\n",
       "      <td>129.0</td>\n",
       "      <td>1.0</td>\n",
       "      <td>2.6</td>\n",
       "      <td>2.0</td>\n",
       "      <td>2.0</td>\n",
       "      <td>7.0</td>\n",
       "      <td>1</td>\n",
       "    </tr>\n",
       "    <tr>\n",
       "      <th>3</th>\n",
       "      <td>37.0</td>\n",
       "      <td>1.0</td>\n",
       "      <td>3.0</td>\n",
       "      <td>130.0</td>\n",
       "      <td>250.0</td>\n",
       "      <td>0.0</td>\n",
       "      <td>0.0</td>\n",
       "      <td>187.0</td>\n",
       "      <td>0.0</td>\n",
       "      <td>3.5</td>\n",
       "      <td>3.0</td>\n",
       "      <td>0.0</td>\n",
       "      <td>3.0</td>\n",
       "      <td>0</td>\n",
       "    </tr>\n",
       "    <tr>\n",
       "      <th>4</th>\n",
       "      <td>41.0</td>\n",
       "      <td>0.0</td>\n",
       "      <td>2.0</td>\n",
       "      <td>130.0</td>\n",
       "      <td>204.0</td>\n",
       "      <td>0.0</td>\n",
       "      <td>2.0</td>\n",
       "      <td>172.0</td>\n",
       "      <td>0.0</td>\n",
       "      <td>1.4</td>\n",
       "      <td>1.0</td>\n",
       "      <td>0.0</td>\n",
       "      <td>3.0</td>\n",
       "      <td>0</td>\n",
       "    </tr>\n",
       "  </tbody>\n",
       "</table>\n",
       "</div>"
      ],
      "text/plain": [
       "     0    1    2      3      4    5    6      7    8    9    10   11   12  13\n",
       "0  63.0  1.0  1.0  145.0  233.0  1.0  2.0  150.0  0.0  2.3  3.0  0.0  6.0   0\n",
       "1  67.0  1.0  4.0  160.0  286.0  0.0  2.0  108.0  1.0  1.5  2.0  3.0  3.0   2\n",
       "2  67.0  1.0  4.0  120.0  229.0  0.0  2.0  129.0  1.0  2.6  2.0  2.0  7.0   1\n",
       "3  37.0  1.0  3.0  130.0  250.0  0.0  0.0  187.0  0.0  3.5  3.0  0.0  3.0   0\n",
       "4  41.0  0.0  2.0  130.0  204.0  0.0  2.0  172.0  0.0  1.4  1.0  0.0  3.0   0"
      ]
     },
     "execution_count": 3,
     "metadata": {},
     "output_type": "execute_result"
    }
   ],
   "source": [
    "df = pd.read_csv('heart-disease.csv',header = None)\n",
    "df.head()"
   ]
  },
  {
   "cell_type": "code",
   "execution_count": 4,
   "id": "70ad683f",
   "metadata": {
    "scrolled": true
   },
   "outputs": [
    {
     "data": {
      "text/plain": [
       "(303, 14)"
      ]
     },
     "execution_count": 4,
     "metadata": {},
     "output_type": "execute_result"
    }
   ],
   "source": [
    "df.shape"
   ]
  },
  {
   "cell_type": "markdown",
   "id": "dd3c6b39",
   "metadata": {},
   "source": [
    "# Attribute Information:\n",
    "\n",
    "## Only 14 attributes used:\n",
    "1. Age\n",
    "2. Sex\n",
    "3. CP, Chest pain\n",
    "4. restbp, resting blood pressure(in mm Hg)\n",
    "5. chol, serum cholesterol in mg/dl\n",
    "6. fbs, fasting blood sugar\n",
    "7. restecg, resting electrocardiographic results\n",
    "8. thalach, maximum heart rate achieved\n",
    "9. exang, exercise induced angina\n",
    "10. oldpeak, ST depression induced by exercise relative to rest \n",
    "11. slope, the slope of the peak exercise ST segment \n",
    "12. ca, number of major vessels (0-3) colored by fluoroscopy \n",
    "13. thal, this is short of thalium heart scan.\n",
    "14. hd, diagnosis of heart disease, the predicted attribute"
   ]
  },
  {
   "cell_type": "code",
   "execution_count": 5,
   "id": "2c54e3f0",
   "metadata": {},
   "outputs": [
    {
     "data": {
      "text/plain": [
       "Index([0, 1, 2, 3, 4, 5, 6, 7, 8, 9, 10, 11, 12, 13], dtype='int64')"
      ]
     },
     "execution_count": 5,
     "metadata": {},
     "output_type": "execute_result"
    }
   ],
   "source": [
    "# checking the columns names before changing \n",
    "df.columns"
   ]
  },
  {
   "cell_type": "code",
   "execution_count": 6,
   "id": "86bc2e8b",
   "metadata": {
    "scrolled": true
   },
   "outputs": [
    {
     "data": {
      "text/html": [
       "<div>\n",
       "<style scoped>\n",
       "    .dataframe tbody tr th:only-of-type {\n",
       "        vertical-align: middle;\n",
       "    }\n",
       "\n",
       "    .dataframe tbody tr th {\n",
       "        vertical-align: top;\n",
       "    }\n",
       "\n",
       "    .dataframe thead th {\n",
       "        text-align: right;\n",
       "    }\n",
       "</style>\n",
       "<table border=\"1\" class=\"dataframe\">\n",
       "  <thead>\n",
       "    <tr style=\"text-align: right;\">\n",
       "      <th></th>\n",
       "      <th>age</th>\n",
       "      <th>sex</th>\n",
       "      <th>cp</th>\n",
       "      <th>restbp</th>\n",
       "      <th>chol</th>\n",
       "      <th>fbs</th>\n",
       "      <th>restecg</th>\n",
       "      <th>thalach</th>\n",
       "      <th>exang</th>\n",
       "      <th>oldpeak</th>\n",
       "      <th>slope</th>\n",
       "      <th>ca</th>\n",
       "      <th>thal</th>\n",
       "      <th>hd</th>\n",
       "    </tr>\n",
       "  </thead>\n",
       "  <tbody>\n",
       "    <tr>\n",
       "      <th>0</th>\n",
       "      <td>63.0</td>\n",
       "      <td>1.0</td>\n",
       "      <td>1.0</td>\n",
       "      <td>145.0</td>\n",
       "      <td>233.0</td>\n",
       "      <td>1.0</td>\n",
       "      <td>2.0</td>\n",
       "      <td>150.0</td>\n",
       "      <td>0.0</td>\n",
       "      <td>2.3</td>\n",
       "      <td>3.0</td>\n",
       "      <td>0.0</td>\n",
       "      <td>6.0</td>\n",
       "      <td>0</td>\n",
       "    </tr>\n",
       "    <tr>\n",
       "      <th>1</th>\n",
       "      <td>67.0</td>\n",
       "      <td>1.0</td>\n",
       "      <td>4.0</td>\n",
       "      <td>160.0</td>\n",
       "      <td>286.0</td>\n",
       "      <td>0.0</td>\n",
       "      <td>2.0</td>\n",
       "      <td>108.0</td>\n",
       "      <td>1.0</td>\n",
       "      <td>1.5</td>\n",
       "      <td>2.0</td>\n",
       "      <td>3.0</td>\n",
       "      <td>3.0</td>\n",
       "      <td>2</td>\n",
       "    </tr>\n",
       "    <tr>\n",
       "      <th>2</th>\n",
       "      <td>67.0</td>\n",
       "      <td>1.0</td>\n",
       "      <td>4.0</td>\n",
       "      <td>120.0</td>\n",
       "      <td>229.0</td>\n",
       "      <td>0.0</td>\n",
       "      <td>2.0</td>\n",
       "      <td>129.0</td>\n",
       "      <td>1.0</td>\n",
       "      <td>2.6</td>\n",
       "      <td>2.0</td>\n",
       "      <td>2.0</td>\n",
       "      <td>7.0</td>\n",
       "      <td>1</td>\n",
       "    </tr>\n",
       "    <tr>\n",
       "      <th>3</th>\n",
       "      <td>37.0</td>\n",
       "      <td>1.0</td>\n",
       "      <td>3.0</td>\n",
       "      <td>130.0</td>\n",
       "      <td>250.0</td>\n",
       "      <td>0.0</td>\n",
       "      <td>0.0</td>\n",
       "      <td>187.0</td>\n",
       "      <td>0.0</td>\n",
       "      <td>3.5</td>\n",
       "      <td>3.0</td>\n",
       "      <td>0.0</td>\n",
       "      <td>3.0</td>\n",
       "      <td>0</td>\n",
       "    </tr>\n",
       "    <tr>\n",
       "      <th>4</th>\n",
       "      <td>41.0</td>\n",
       "      <td>0.0</td>\n",
       "      <td>2.0</td>\n",
       "      <td>130.0</td>\n",
       "      <td>204.0</td>\n",
       "      <td>0.0</td>\n",
       "      <td>2.0</td>\n",
       "      <td>172.0</td>\n",
       "      <td>0.0</td>\n",
       "      <td>1.4</td>\n",
       "      <td>1.0</td>\n",
       "      <td>0.0</td>\n",
       "      <td>3.0</td>\n",
       "      <td>0</td>\n",
       "    </tr>\n",
       "  </tbody>\n",
       "</table>\n",
       "</div>"
      ],
      "text/plain": [
       "    age  sex   cp  restbp   chol  fbs  restecg  thalach  exang  oldpeak  \\\n",
       "0  63.0  1.0  1.0   145.0  233.0  1.0      2.0    150.0    0.0      2.3   \n",
       "1  67.0  1.0  4.0   160.0  286.0  0.0      2.0    108.0    1.0      1.5   \n",
       "2  67.0  1.0  4.0   120.0  229.0  0.0      2.0    129.0    1.0      2.6   \n",
       "3  37.0  1.0  3.0   130.0  250.0  0.0      0.0    187.0    0.0      3.5   \n",
       "4  41.0  0.0  2.0   130.0  204.0  0.0      2.0    172.0    0.0      1.4   \n",
       "\n",
       "   slope   ca thal  hd  \n",
       "0    3.0  0.0  6.0   0  \n",
       "1    2.0  3.0  3.0   2  \n",
       "2    2.0  2.0  7.0   1  \n",
       "3    3.0  0.0  3.0   0  \n",
       "4    1.0  0.0  3.0   0  "
      ]
     },
     "execution_count": 6,
     "metadata": {},
     "output_type": "execute_result"
    }
   ],
   "source": [
    "# changing the column names\n",
    "\n",
    "df.columns=['age','sex','cp','restbp','chol','fbs','restecg','thalach','exang','oldpeak','slope','ca','thal','hd']\n",
    "df.head()"
   ]
  },
  {
   "cell_type": "code",
   "execution_count": 7,
   "id": "6b37b4c9",
   "metadata": {},
   "outputs": [
    {
     "name": "stdout",
     "output_type": "stream",
     "text": [
      "<class 'pandas.core.frame.DataFrame'>\n",
      "RangeIndex: 303 entries, 0 to 302\n",
      "Data columns (total 14 columns):\n",
      " #   Column   Non-Null Count  Dtype  \n",
      "---  ------   --------------  -----  \n",
      " 0   age      303 non-null    float64\n",
      " 1   sex      303 non-null    float64\n",
      " 2   cp       303 non-null    float64\n",
      " 3   restbp   303 non-null    float64\n",
      " 4   chol     303 non-null    float64\n",
      " 5   fbs      303 non-null    float64\n",
      " 6   restecg  303 non-null    float64\n",
      " 7   thalach  303 non-null    float64\n",
      " 8   exang    303 non-null    float64\n",
      " 9   oldpeak  303 non-null    float64\n",
      " 10  slope    303 non-null    float64\n",
      " 11  ca       303 non-null    object \n",
      " 12  thal     303 non-null    object \n",
      " 13  hd       303 non-null    int64  \n",
      "dtypes: float64(11), int64(1), object(2)\n",
      "memory usage: 33.3+ KB\n"
     ]
    }
   ],
   "source": [
    "df.info()"
   ]
  },
  {
   "cell_type": "code",
   "execution_count": 8,
   "id": "7248455e-86e5-4585-bd38-2c170ab480f2",
   "metadata": {
    "scrolled": true
   },
   "outputs": [
    {
     "data": {
      "text/plain": [
       "hd\n",
       "0    164\n",
       "1     55\n",
       "2     36\n",
       "3     35\n",
       "4     13\n",
       "Name: count, dtype: int64"
      ]
     },
     "execution_count": 8,
     "metadata": {},
     "output_type": "execute_result"
    }
   ],
   "source": [
    "df.hd.value_counts()"
   ]
  },
  {
   "cell_type": "code",
   "execution_count": 9,
   "id": "bfb7f67e-33bc-4a7a-9731-109372994504",
   "metadata": {},
   "outputs": [
    {
     "data": {
      "text/plain": [
       "hd\n",
       "0    0.478873\n",
       "2    0.154930\n",
       "1    0.154930\n",
       "3    0.140845\n",
       "4    0.070423\n",
       "Name: proportion, dtype: float64"
      ]
     },
     "execution_count": 9,
     "metadata": {},
     "output_type": "execute_result"
    }
   ],
   "source": [
    "df[df.age>61]['hd'].value_counts(normalize = True)"
   ]
  },
  {
   "cell_type": "code",
   "execution_count": 10,
   "id": "5bf358c1",
   "metadata": {
    "scrolled": true
   },
   "outputs": [
    {
     "data": {
      "text/html": [
       "<div>\n",
       "<style scoped>\n",
       "    .dataframe tbody tr th:only-of-type {\n",
       "        vertical-align: middle;\n",
       "    }\n",
       "\n",
       "    .dataframe tbody tr th {\n",
       "        vertical-align: top;\n",
       "    }\n",
       "\n",
       "    .dataframe thead th {\n",
       "        text-align: right;\n",
       "    }\n",
       "</style>\n",
       "<table border=\"1\" class=\"dataframe\">\n",
       "  <thead>\n",
       "    <tr style=\"text-align: right;\">\n",
       "      <th></th>\n",
       "      <th>age</th>\n",
       "      <th>sex</th>\n",
       "      <th>cp</th>\n",
       "      <th>restbp</th>\n",
       "      <th>chol</th>\n",
       "      <th>fbs</th>\n",
       "      <th>restecg</th>\n",
       "      <th>thalach</th>\n",
       "      <th>exang</th>\n",
       "      <th>oldpeak</th>\n",
       "      <th>slope</th>\n",
       "      <th>hd</th>\n",
       "    </tr>\n",
       "  </thead>\n",
       "  <tbody>\n",
       "    <tr>\n",
       "      <th>count</th>\n",
       "      <td>303.000000</td>\n",
       "      <td>303.000000</td>\n",
       "      <td>303.000000</td>\n",
       "      <td>303.000000</td>\n",
       "      <td>303.000000</td>\n",
       "      <td>303.000000</td>\n",
       "      <td>303.000000</td>\n",
       "      <td>303.000000</td>\n",
       "      <td>303.000000</td>\n",
       "      <td>303.000000</td>\n",
       "      <td>303.000000</td>\n",
       "      <td>303.000000</td>\n",
       "    </tr>\n",
       "    <tr>\n",
       "      <th>mean</th>\n",
       "      <td>54.438944</td>\n",
       "      <td>0.679868</td>\n",
       "      <td>3.158416</td>\n",
       "      <td>131.689769</td>\n",
       "      <td>246.693069</td>\n",
       "      <td>0.148515</td>\n",
       "      <td>0.990099</td>\n",
       "      <td>149.607261</td>\n",
       "      <td>0.326733</td>\n",
       "      <td>1.039604</td>\n",
       "      <td>1.600660</td>\n",
       "      <td>0.937294</td>\n",
       "    </tr>\n",
       "    <tr>\n",
       "      <th>std</th>\n",
       "      <td>9.038662</td>\n",
       "      <td>0.467299</td>\n",
       "      <td>0.960126</td>\n",
       "      <td>17.599748</td>\n",
       "      <td>51.776918</td>\n",
       "      <td>0.356198</td>\n",
       "      <td>0.994971</td>\n",
       "      <td>22.875003</td>\n",
       "      <td>0.469794</td>\n",
       "      <td>1.161075</td>\n",
       "      <td>0.616226</td>\n",
       "      <td>1.228536</td>\n",
       "    </tr>\n",
       "    <tr>\n",
       "      <th>min</th>\n",
       "      <td>29.000000</td>\n",
       "      <td>0.000000</td>\n",
       "      <td>1.000000</td>\n",
       "      <td>94.000000</td>\n",
       "      <td>126.000000</td>\n",
       "      <td>0.000000</td>\n",
       "      <td>0.000000</td>\n",
       "      <td>71.000000</td>\n",
       "      <td>0.000000</td>\n",
       "      <td>0.000000</td>\n",
       "      <td>1.000000</td>\n",
       "      <td>0.000000</td>\n",
       "    </tr>\n",
       "    <tr>\n",
       "      <th>25%</th>\n",
       "      <td>48.000000</td>\n",
       "      <td>0.000000</td>\n",
       "      <td>3.000000</td>\n",
       "      <td>120.000000</td>\n",
       "      <td>211.000000</td>\n",
       "      <td>0.000000</td>\n",
       "      <td>0.000000</td>\n",
       "      <td>133.500000</td>\n",
       "      <td>0.000000</td>\n",
       "      <td>0.000000</td>\n",
       "      <td>1.000000</td>\n",
       "      <td>0.000000</td>\n",
       "    </tr>\n",
       "    <tr>\n",
       "      <th>50%</th>\n",
       "      <td>56.000000</td>\n",
       "      <td>1.000000</td>\n",
       "      <td>3.000000</td>\n",
       "      <td>130.000000</td>\n",
       "      <td>241.000000</td>\n",
       "      <td>0.000000</td>\n",
       "      <td>1.000000</td>\n",
       "      <td>153.000000</td>\n",
       "      <td>0.000000</td>\n",
       "      <td>0.800000</td>\n",
       "      <td>2.000000</td>\n",
       "      <td>0.000000</td>\n",
       "    </tr>\n",
       "    <tr>\n",
       "      <th>75%</th>\n",
       "      <td>61.000000</td>\n",
       "      <td>1.000000</td>\n",
       "      <td>4.000000</td>\n",
       "      <td>140.000000</td>\n",
       "      <td>275.000000</td>\n",
       "      <td>0.000000</td>\n",
       "      <td>2.000000</td>\n",
       "      <td>166.000000</td>\n",
       "      <td>1.000000</td>\n",
       "      <td>1.600000</td>\n",
       "      <td>2.000000</td>\n",
       "      <td>2.000000</td>\n",
       "    </tr>\n",
       "    <tr>\n",
       "      <th>max</th>\n",
       "      <td>77.000000</td>\n",
       "      <td>1.000000</td>\n",
       "      <td>4.000000</td>\n",
       "      <td>200.000000</td>\n",
       "      <td>564.000000</td>\n",
       "      <td>1.000000</td>\n",
       "      <td>2.000000</td>\n",
       "      <td>202.000000</td>\n",
       "      <td>1.000000</td>\n",
       "      <td>6.200000</td>\n",
       "      <td>3.000000</td>\n",
       "      <td>4.000000</td>\n",
       "    </tr>\n",
       "  </tbody>\n",
       "</table>\n",
       "</div>"
      ],
      "text/plain": [
       "              age         sex          cp      restbp        chol         fbs  \\\n",
       "count  303.000000  303.000000  303.000000  303.000000  303.000000  303.000000   \n",
       "mean    54.438944    0.679868    3.158416  131.689769  246.693069    0.148515   \n",
       "std      9.038662    0.467299    0.960126   17.599748   51.776918    0.356198   \n",
       "min     29.000000    0.000000    1.000000   94.000000  126.000000    0.000000   \n",
       "25%     48.000000    0.000000    3.000000  120.000000  211.000000    0.000000   \n",
       "50%     56.000000    1.000000    3.000000  130.000000  241.000000    0.000000   \n",
       "75%     61.000000    1.000000    4.000000  140.000000  275.000000    0.000000   \n",
       "max     77.000000    1.000000    4.000000  200.000000  564.000000    1.000000   \n",
       "\n",
       "          restecg     thalach       exang     oldpeak       slope          hd  \n",
       "count  303.000000  303.000000  303.000000  303.000000  303.000000  303.000000  \n",
       "mean     0.990099  149.607261    0.326733    1.039604    1.600660    0.937294  \n",
       "std      0.994971   22.875003    0.469794    1.161075    0.616226    1.228536  \n",
       "min      0.000000   71.000000    0.000000    0.000000    1.000000    0.000000  \n",
       "25%      0.000000  133.500000    0.000000    0.000000    1.000000    0.000000  \n",
       "50%      1.000000  153.000000    0.000000    0.800000    2.000000    0.000000  \n",
       "75%      2.000000  166.000000    1.000000    1.600000    2.000000    2.000000  \n",
       "max      2.000000  202.000000    1.000000    6.200000    3.000000    4.000000  "
      ]
     },
     "execution_count": 10,
     "metadata": {},
     "output_type": "execute_result"
    }
   ],
   "source": [
    "df.describe()"
   ]
  },
  {
   "cell_type": "code",
   "execution_count": 11,
   "id": "7d5f78e5",
   "metadata": {},
   "outputs": [
    {
     "name": "stdout",
     "output_type": "stream",
     "text": [
      "age\n",
      "[63. 67. 37. 41. 56. 62. 57. 53. 44. 52. 48. 54. 49. 64. 58. 60. 50. 66.\n",
      " 43. 40. 69. 59. 42. 55. 61. 65. 71. 51. 46. 45. 39. 68. 47. 34. 35. 29.\n",
      " 70. 77. 38. 74. 76.]\n",
      "No of Unique features =  41\n",
      "\n",
      "sex\n",
      "[1. 0.]\n",
      "No of Unique features =  2\n",
      "\n",
      "cp\n",
      "[1. 4. 3. 2.]\n",
      "No of Unique features =  4\n",
      "\n",
      "restbp\n",
      "[145. 160. 120. 130. 140. 172. 150. 110. 132. 117. 135. 112. 105. 124.\n",
      " 125. 142. 128. 170. 155. 104. 180. 138. 108. 134. 122. 115. 118. 100.\n",
      " 200.  94. 165. 102. 152. 101. 126. 174. 148. 178. 158. 192. 129. 144.\n",
      " 123. 136. 146. 106. 156. 154. 114. 164.]\n",
      "No of Unique features =  50\n",
      "\n",
      "chol\n",
      "[233. 286. 229. 250. 204. 236. 268. 354. 254. 203. 192. 294. 256. 263.\n",
      " 199. 168. 239. 275. 266. 211. 283. 284. 224. 206. 219. 340. 226. 247.\n",
      " 167. 230. 335. 234. 177. 276. 353. 243. 225. 302. 212. 330. 175. 417.\n",
      " 197. 198. 290. 253. 172. 273. 213. 305. 216. 304. 188. 282. 185. 232.\n",
      " 326. 231. 269. 267. 248. 360. 258. 308. 245. 270. 208. 264. 321. 274.\n",
      " 325. 235. 257. 164. 141. 252. 255. 201. 222. 260. 182. 303. 265. 309.\n",
      " 307. 249. 186. 341. 183. 407. 217. 288. 220. 209. 227. 261. 174. 281.\n",
      " 221. 205. 240. 289. 318. 298. 564. 246. 322. 299. 300. 293. 277. 214.\n",
      " 207. 223. 160. 394. 184. 315. 409. 244. 195. 196. 126. 313. 259. 200.\n",
      " 262. 215. 228. 193. 271. 210. 327. 149. 295. 306. 178. 237. 218. 242.\n",
      " 319. 166. 180. 311. 278. 342. 169. 187. 157. 176. 241. 131.]\n",
      "No of Unique features =  152\n",
      "\n",
      "fbs\n",
      "[1. 0.]\n",
      "No of Unique features =  2\n",
      "\n",
      "restecg\n",
      "[2. 0. 1.]\n",
      "No of Unique features =  3\n",
      "\n",
      "thalach\n",
      "[150. 108. 129. 187. 172. 178. 160. 163. 147. 155. 148. 153. 142. 173.\n",
      " 162. 174. 168. 139. 171. 144. 132. 158. 114. 151. 161. 179. 120. 112.\n",
      " 137. 157. 169. 165. 123. 128. 152. 140. 188. 109. 125. 131. 170. 113.\n",
      "  99. 177. 141. 180. 111. 143. 182. 156. 115. 149. 145. 146. 175. 186.\n",
      " 185. 159. 130. 190. 136.  97. 127. 154. 133. 126. 202. 103. 166. 164.\n",
      " 184. 124. 122.  96. 138.  88. 105. 194. 195. 106. 167.  95. 192. 117.\n",
      " 121. 116.  71. 118. 181. 134.  90.]\n",
      "No of Unique features =  91\n",
      "\n",
      "exang\n",
      "[0. 1.]\n",
      "No of Unique features =  2\n",
      "\n",
      "oldpeak\n",
      "[2.3 1.5 2.6 3.5 1.4 0.8 3.6 0.6 3.1 0.4 1.3 0.  0.5 1.6 1.  1.2 0.2 1.8\n",
      " 3.2 2.4 2.  2.5 2.2 2.8 3.  3.4 6.2 4.  5.6 2.9 0.1 2.1 1.9 4.2 0.9 1.1\n",
      " 3.8 0.7 0.3 4.4]\n",
      "No of Unique features =  40\n",
      "\n",
      "slope\n",
      "[3. 2. 1.]\n",
      "No of Unique features =  3\n",
      "\n",
      "ca\n",
      "['0.0' '3.0' '2.0' '1.0' '?']\n",
      "No of Unique features =  5\n",
      "\n",
      "thal\n",
      "['6.0' '3.0' '7.0' '?']\n",
      "No of Unique features =  4\n",
      "\n",
      "hd\n",
      "[0 2 1 3 4]\n",
      "No of Unique features =  5\n",
      "\n"
     ]
    }
   ],
   "source": [
    "for i in df.columns:\n",
    "    print(i)\n",
    "    print(df[i].unique())\n",
    "    print('No of Unique features = ',df[i].nunique())\n",
    "    print()"
   ]
  },
  {
   "cell_type": "markdown",
   "id": "bd85fbcf",
   "metadata": {},
   "source": [
    "#### Now we can see there is a ? in the ca and thal, We want to treat those null values through mode."
   ]
  },
  {
   "cell_type": "code",
   "execution_count": 12,
   "id": "6c98e356-dfe3-4429-a261-b819c992a2a7",
   "metadata": {},
   "outputs": [],
   "source": [
    "df['ca'] = df['ca'].replace('?',df['ca'].mode()[0]).astype(float)"
   ]
  },
  {
   "cell_type": "code",
   "execution_count": 13,
   "id": "3532a26c",
   "metadata": {},
   "outputs": [],
   "source": [
    "df['thal'] = df['thal'].replace('?',df['thal'].mode()[0]).astype(float)"
   ]
  },
  {
   "cell_type": "code",
   "execution_count": 14,
   "id": "d7a63779-4555-49a7-b1da-819970bfb782",
   "metadata": {},
   "outputs": [
    {
     "name": "stdout",
     "output_type": "stream",
     "text": [
      "[0. 3. 2. 1.]\n",
      "[6. 3. 7.]\n"
     ]
    }
   ],
   "source": [
    "# now will recheck the [ca and thal] have any missing values are not\n",
    "print(df.ca.unique())\n",
    "print(df.thal.unique())"
   ]
  },
  {
   "cell_type": "code",
   "execution_count": 15,
   "id": "4f58cfef",
   "metadata": {},
   "outputs": [],
   "source": [
    "new_df = df.copy(deep=True)"
   ]
  },
  {
   "cell_type": "code",
   "execution_count": 16,
   "id": "b2802c50",
   "metadata": {},
   "outputs": [],
   "source": [
    "# Now will split the dataset to the dependent and independent variable \n",
    "\n",
    "X=new_df.drop('hd',axis=1)\n",
    "y=new_df['hd']"
   ]
  },
  {
   "cell_type": "markdown",
   "id": "1917e1cc",
   "metadata": {},
   "source": [
    "### Data Information\n",
    "\n",
    "- age:- Float\n",
    "- sex:- category\n",
    "    - 0 = female\n",
    "    - 1 = male\n",
    "- cp:- chest pain, category\n",
    "    - 1 = typical angina\n",
    "    - 2 = atypical angina\n",
    "    - 3 = non-anginal pain\n",
    "    - 4 = asymptomatic\n",
    "- restbp, resting blood pressure(in mm hg), Float\n",
    "- chol, serum cholesterol in mg/dl, Float\n",
    "- fbs, fasting blood sugar, Category\n",
    "    - 0 =  >=120 mpg/dl\n",
    "    - 1 =  <=120 mpg/dl\n",
    "- restecg, resting electrocardiographic results, Category\n",
    "    - 1 = normal\n",
    "    - 2 = having ST-T wave abnormality\n",
    "    - 3 = showing probable or definite left ventricular hypertropy\n",
    "- thalach, maximum heart rate achieved, Float\n",
    "- exang, exercise induced angina, Category\n",
    "    - 0 = no\n",
    "    - 1 = yes\n",
    "- oldpeak, ST depression induced by exercise relative to rest. Float\n",
    "- slope, the slope of the peak exercise ST segment, Category\n",
    "    - 1 = unsloping\n",
    "    - 2 = flat\n",
    "    - 3 = downsloping\n",
    "- ca, number of major vessels (0-3) colored by fluoroscopy, Float\n",
    "-  thal, thalium heart scan, Category\n",
    "    - 3 = normal (no cold spots)\n",
    "    - 6 = fixed defect(cold spots during rest and exercise)\n",
    "    - 7 = reversible defect(when cold spots only appear during exercise)\n",
    "\n"
   ]
  },
  {
   "cell_type": "markdown",
   "id": "effcda3a",
   "metadata": {},
   "source": [
    "### We are going to build simple classification problem here"
   ]
  },
  {
   "cell_type": "markdown",
   "id": "0a365e8d",
   "metadata": {},
   "source": [
    "Now one last thing before we build a classification Tree.  y dosen't just contain 0s and 1s insted, it has 5 different levels of heart disease 0=no heart disease and 1-4 are various degress of heart diseases. we can see thies with unique()"
   ]
  },
  {
   "cell_type": "code",
   "execution_count": 17,
   "id": "4e340a64",
   "metadata": {
    "scrolled": true
   },
   "outputs": [
    {
     "data": {
      "text/plain": [
       "array([0, 2, 1, 3, 4], dtype=int64)"
      ]
     },
     "execution_count": 17,
     "metadata": {},
     "output_type": "execute_result"
    }
   ],
   "source": [
    "y.unique()"
   ]
  },
  {
   "cell_type": "code",
   "execution_count": 18,
   "id": "3c4aa5d7",
   "metadata": {
    "scrolled": true
   },
   "outputs": [
    {
     "data": {
      "text/plain": [
       "hd\n",
       "0    54.125413\n",
       "1    18.151815\n",
       "2    11.881188\n",
       "3    11.551155\n",
       "4     4.290429\n",
       "Name: proportion, dtype: float64"
      ]
     },
     "execution_count": 18,
     "metadata": {},
     "output_type": "execute_result"
    }
   ],
   "source": [
    "y.value_counts(normalize = True) * 100"
   ]
  },
  {
   "cell_type": "code",
   "execution_count": 19,
   "id": "6477dc58",
   "metadata": {},
   "outputs": [
    {
     "data": {
      "text/plain": [
       "hd\n",
       "0    54.125413\n",
       "1    18.151815\n",
       "2    11.881188\n",
       "3    11.551155\n",
       "4     4.290429\n",
       "Name: proportion, dtype: float64"
      ]
     },
     "execution_count": 19,
     "metadata": {},
     "output_type": "execute_result"
    }
   ],
   "source": [
    "y.value_counts(normalize = True) * 100"
   ]
  },
  {
   "cell_type": "code",
   "execution_count": 20,
   "id": "e45b251e",
   "metadata": {},
   "outputs": [],
   "source": [
    "#y[y>0] = 1"
   ]
  },
  {
   "cell_type": "code",
   "execution_count": 21,
   "id": "6ee479d3",
   "metadata": {},
   "outputs": [],
   "source": [
    "# y.apply(lambda x : 1  if x >0 else 0)"
   ]
  },
  {
   "cell_type": "code",
   "execution_count": 22,
   "id": "b06cb072",
   "metadata": {
    "scrolled": true
   },
   "outputs": [],
   "source": [
    "#y.value_counts()"
   ]
  },
  {
   "cell_type": "markdown",
   "id": "09c1d21f",
   "metadata": {},
   "source": [
    "#### If someone has heart disease we keep it has 1 and if someone don't have heart disease we keep it as 0, so to keep it simple we are coverting multi-class classification problem statement to binary classification"
   ]
  },
  {
   "cell_type": "code",
   "execution_count": 23,
   "id": "7766a762",
   "metadata": {},
   "outputs": [
    {
     "data": {
      "text/plain": [
       "array([0, 1], dtype=int64)"
      ]
     },
     "execution_count": 23,
     "metadata": {},
     "output_type": "execute_result"
    }
   ],
   "source": [
    "y_non_zero_index= y > 0   # get the index of each non zero values in y\n",
    "y[y_non_zero_index]=1     # set each non-zero values in y to 1\n",
    "y.unique()"
   ]
  },
  {
   "cell_type": "code",
   "execution_count": 24,
   "id": "11f5d7e4",
   "metadata": {},
   "outputs": [
    {
     "data": {
      "text/plain": [
       "hd\n",
       "0    54.125413\n",
       "1    45.874587\n",
       "Name: proportion, dtype: float64"
      ]
     },
     "execution_count": 24,
     "metadata": {},
     "output_type": "execute_result"
    }
   ],
   "source": [
    "y.value_counts(normalize = True) *100    # You can see that the dataset is balanced"
   ]
  },
  {
   "cell_type": "markdown",
   "id": "d07fc506",
   "metadata": {},
   "source": [
    "## Now will build the model\n",
    "## Firstly will Build a Preliminary Classification Tree"
   ]
  },
  {
   "cell_type": "code",
   "execution_count": 25,
   "id": "216a1a85",
   "metadata": {},
   "outputs": [],
   "source": [
    "from sklearn.tree import DecisionTreeClassifier"
   ]
  },
  {
   "cell_type": "code",
   "execution_count": 86,
   "id": "7a2a50b9",
   "metadata": {},
   "outputs": [
    {
     "data": {
      "text/html": [
       "<style>#sk-container-id-3 {\n",
       "  /* Definition of color scheme common for light and dark mode */\n",
       "  --sklearn-color-text: black;\n",
       "  --sklearn-color-line: gray;\n",
       "  /* Definition of color scheme for unfitted estimators */\n",
       "  --sklearn-color-unfitted-level-0: #fff5e6;\n",
       "  --sklearn-color-unfitted-level-1: #f6e4d2;\n",
       "  --sklearn-color-unfitted-level-2: #ffe0b3;\n",
       "  --sklearn-color-unfitted-level-3: chocolate;\n",
       "  /* Definition of color scheme for fitted estimators */\n",
       "  --sklearn-color-fitted-level-0: #f0f8ff;\n",
       "  --sklearn-color-fitted-level-1: #d4ebff;\n",
       "  --sklearn-color-fitted-level-2: #b3dbfd;\n",
       "  --sklearn-color-fitted-level-3: cornflowerblue;\n",
       "\n",
       "  /* Specific color for light theme */\n",
       "  --sklearn-color-text-on-default-background: var(--sg-text-color, var(--theme-code-foreground, var(--jp-content-font-color1, black)));\n",
       "  --sklearn-color-background: var(--sg-background-color, var(--theme-background, var(--jp-layout-color0, white)));\n",
       "  --sklearn-color-border-box: var(--sg-text-color, var(--theme-code-foreground, var(--jp-content-font-color1, black)));\n",
       "  --sklearn-color-icon: #696969;\n",
       "\n",
       "  @media (prefers-color-scheme: dark) {\n",
       "    /* Redefinition of color scheme for dark theme */\n",
       "    --sklearn-color-text-on-default-background: var(--sg-text-color, var(--theme-code-foreground, var(--jp-content-font-color1, white)));\n",
       "    --sklearn-color-background: var(--sg-background-color, var(--theme-background, var(--jp-layout-color0, #111)));\n",
       "    --sklearn-color-border-box: var(--sg-text-color, var(--theme-code-foreground, var(--jp-content-font-color1, white)));\n",
       "    --sklearn-color-icon: #878787;\n",
       "  }\n",
       "}\n",
       "\n",
       "#sk-container-id-3 {\n",
       "  color: var(--sklearn-color-text);\n",
       "}\n",
       "\n",
       "#sk-container-id-3 pre {\n",
       "  padding: 0;\n",
       "}\n",
       "\n",
       "#sk-container-id-3 input.sk-hidden--visually {\n",
       "  border: 0;\n",
       "  clip: rect(1px 1px 1px 1px);\n",
       "  clip: rect(1px, 1px, 1px, 1px);\n",
       "  height: 1px;\n",
       "  margin: -1px;\n",
       "  overflow: hidden;\n",
       "  padding: 0;\n",
       "  position: absolute;\n",
       "  width: 1px;\n",
       "}\n",
       "\n",
       "#sk-container-id-3 div.sk-dashed-wrapped {\n",
       "  border: 1px dashed var(--sklearn-color-line);\n",
       "  margin: 0 0.4em 0.5em 0.4em;\n",
       "  box-sizing: border-box;\n",
       "  padding-bottom: 0.4em;\n",
       "  background-color: var(--sklearn-color-background);\n",
       "}\n",
       "\n",
       "#sk-container-id-3 div.sk-container {\n",
       "  /* jupyter's `normalize.less` sets `[hidden] { display: none; }`\n",
       "     but bootstrap.min.css set `[hidden] { display: none !important; }`\n",
       "     so we also need the `!important` here to be able to override the\n",
       "     default hidden behavior on the sphinx rendered scikit-learn.org.\n",
       "     See: https://github.com/scikit-learn/scikit-learn/issues/21755 */\n",
       "  display: inline-block !important;\n",
       "  position: relative;\n",
       "}\n",
       "\n",
       "#sk-container-id-3 div.sk-text-repr-fallback {\n",
       "  display: none;\n",
       "}\n",
       "\n",
       "div.sk-parallel-item,\n",
       "div.sk-serial,\n",
       "div.sk-item {\n",
       "  /* draw centered vertical line to link estimators */\n",
       "  background-image: linear-gradient(var(--sklearn-color-text-on-default-background), var(--sklearn-color-text-on-default-background));\n",
       "  background-size: 2px 100%;\n",
       "  background-repeat: no-repeat;\n",
       "  background-position: center center;\n",
       "}\n",
       "\n",
       "/* Parallel-specific style estimator block */\n",
       "\n",
       "#sk-container-id-3 div.sk-parallel-item::after {\n",
       "  content: \"\";\n",
       "  width: 100%;\n",
       "  border-bottom: 2px solid var(--sklearn-color-text-on-default-background);\n",
       "  flex-grow: 1;\n",
       "}\n",
       "\n",
       "#sk-container-id-3 div.sk-parallel {\n",
       "  display: flex;\n",
       "  align-items: stretch;\n",
       "  justify-content: center;\n",
       "  background-color: var(--sklearn-color-background);\n",
       "  position: relative;\n",
       "}\n",
       "\n",
       "#sk-container-id-3 div.sk-parallel-item {\n",
       "  display: flex;\n",
       "  flex-direction: column;\n",
       "}\n",
       "\n",
       "#sk-container-id-3 div.sk-parallel-item:first-child::after {\n",
       "  align-self: flex-end;\n",
       "  width: 50%;\n",
       "}\n",
       "\n",
       "#sk-container-id-3 div.sk-parallel-item:last-child::after {\n",
       "  align-self: flex-start;\n",
       "  width: 50%;\n",
       "}\n",
       "\n",
       "#sk-container-id-3 div.sk-parallel-item:only-child::after {\n",
       "  width: 0;\n",
       "}\n",
       "\n",
       "/* Serial-specific style estimator block */\n",
       "\n",
       "#sk-container-id-3 div.sk-serial {\n",
       "  display: flex;\n",
       "  flex-direction: column;\n",
       "  align-items: center;\n",
       "  background-color: var(--sklearn-color-background);\n",
       "  padding-right: 1em;\n",
       "  padding-left: 1em;\n",
       "}\n",
       "\n",
       "\n",
       "/* Toggleable style: style used for estimator/Pipeline/ColumnTransformer box that is\n",
       "clickable and can be expanded/collapsed.\n",
       "- Pipeline and ColumnTransformer use this feature and define the default style\n",
       "- Estimators will overwrite some part of the style using the `sk-estimator` class\n",
       "*/\n",
       "\n",
       "/* Pipeline and ColumnTransformer style (default) */\n",
       "\n",
       "#sk-container-id-3 div.sk-toggleable {\n",
       "  /* Default theme specific background. It is overwritten whether we have a\n",
       "  specific estimator or a Pipeline/ColumnTransformer */\n",
       "  background-color: var(--sklearn-color-background);\n",
       "}\n",
       "\n",
       "/* Toggleable label */\n",
       "#sk-container-id-3 label.sk-toggleable__label {\n",
       "  cursor: pointer;\n",
       "  display: block;\n",
       "  width: 100%;\n",
       "  margin-bottom: 0;\n",
       "  padding: 0.5em;\n",
       "  box-sizing: border-box;\n",
       "  text-align: center;\n",
       "}\n",
       "\n",
       "#sk-container-id-3 label.sk-toggleable__label-arrow:before {\n",
       "  /* Arrow on the left of the label */\n",
       "  content: \"▸\";\n",
       "  float: left;\n",
       "  margin-right: 0.25em;\n",
       "  color: var(--sklearn-color-icon);\n",
       "}\n",
       "\n",
       "#sk-container-id-3 label.sk-toggleable__label-arrow:hover:before {\n",
       "  color: var(--sklearn-color-text);\n",
       "}\n",
       "\n",
       "/* Toggleable content - dropdown */\n",
       "\n",
       "#sk-container-id-3 div.sk-toggleable__content {\n",
       "  max-height: 0;\n",
       "  max-width: 0;\n",
       "  overflow: hidden;\n",
       "  text-align: left;\n",
       "  /* unfitted */\n",
       "  background-color: var(--sklearn-color-unfitted-level-0);\n",
       "}\n",
       "\n",
       "#sk-container-id-3 div.sk-toggleable__content.fitted {\n",
       "  /* fitted */\n",
       "  background-color: var(--sklearn-color-fitted-level-0);\n",
       "}\n",
       "\n",
       "#sk-container-id-3 div.sk-toggleable__content pre {\n",
       "  margin: 0.2em;\n",
       "  border-radius: 0.25em;\n",
       "  color: var(--sklearn-color-text);\n",
       "  /* unfitted */\n",
       "  background-color: var(--sklearn-color-unfitted-level-0);\n",
       "}\n",
       "\n",
       "#sk-container-id-3 div.sk-toggleable__content.fitted pre {\n",
       "  /* unfitted */\n",
       "  background-color: var(--sklearn-color-fitted-level-0);\n",
       "}\n",
       "\n",
       "#sk-container-id-3 input.sk-toggleable__control:checked~div.sk-toggleable__content {\n",
       "  /* Expand drop-down */\n",
       "  max-height: 200px;\n",
       "  max-width: 100%;\n",
       "  overflow: auto;\n",
       "}\n",
       "\n",
       "#sk-container-id-3 input.sk-toggleable__control:checked~label.sk-toggleable__label-arrow:before {\n",
       "  content: \"▾\";\n",
       "}\n",
       "\n",
       "/* Pipeline/ColumnTransformer-specific style */\n",
       "\n",
       "#sk-container-id-3 div.sk-label input.sk-toggleable__control:checked~label.sk-toggleable__label {\n",
       "  color: var(--sklearn-color-text);\n",
       "  background-color: var(--sklearn-color-unfitted-level-2);\n",
       "}\n",
       "\n",
       "#sk-container-id-3 div.sk-label.fitted input.sk-toggleable__control:checked~label.sk-toggleable__label {\n",
       "  background-color: var(--sklearn-color-fitted-level-2);\n",
       "}\n",
       "\n",
       "/* Estimator-specific style */\n",
       "\n",
       "/* Colorize estimator box */\n",
       "#sk-container-id-3 div.sk-estimator input.sk-toggleable__control:checked~label.sk-toggleable__label {\n",
       "  /* unfitted */\n",
       "  background-color: var(--sklearn-color-unfitted-level-2);\n",
       "}\n",
       "\n",
       "#sk-container-id-3 div.sk-estimator.fitted input.sk-toggleable__control:checked~label.sk-toggleable__label {\n",
       "  /* fitted */\n",
       "  background-color: var(--sklearn-color-fitted-level-2);\n",
       "}\n",
       "\n",
       "#sk-container-id-3 div.sk-label label.sk-toggleable__label,\n",
       "#sk-container-id-3 div.sk-label label {\n",
       "  /* The background is the default theme color */\n",
       "  color: var(--sklearn-color-text-on-default-background);\n",
       "}\n",
       "\n",
       "/* On hover, darken the color of the background */\n",
       "#sk-container-id-3 div.sk-label:hover label.sk-toggleable__label {\n",
       "  color: var(--sklearn-color-text);\n",
       "  background-color: var(--sklearn-color-unfitted-level-2);\n",
       "}\n",
       "\n",
       "/* Label box, darken color on hover, fitted */\n",
       "#sk-container-id-3 div.sk-label.fitted:hover label.sk-toggleable__label.fitted {\n",
       "  color: var(--sklearn-color-text);\n",
       "  background-color: var(--sklearn-color-fitted-level-2);\n",
       "}\n",
       "\n",
       "/* Estimator label */\n",
       "\n",
       "#sk-container-id-3 div.sk-label label {\n",
       "  font-family: monospace;\n",
       "  font-weight: bold;\n",
       "  display: inline-block;\n",
       "  line-height: 1.2em;\n",
       "}\n",
       "\n",
       "#sk-container-id-3 div.sk-label-container {\n",
       "  text-align: center;\n",
       "}\n",
       "\n",
       "/* Estimator-specific */\n",
       "#sk-container-id-3 div.sk-estimator {\n",
       "  font-family: monospace;\n",
       "  border: 1px dotted var(--sklearn-color-border-box);\n",
       "  border-radius: 0.25em;\n",
       "  box-sizing: border-box;\n",
       "  margin-bottom: 0.5em;\n",
       "  /* unfitted */\n",
       "  background-color: var(--sklearn-color-unfitted-level-0);\n",
       "}\n",
       "\n",
       "#sk-container-id-3 div.sk-estimator.fitted {\n",
       "  /* fitted */\n",
       "  background-color: var(--sklearn-color-fitted-level-0);\n",
       "}\n",
       "\n",
       "/* on hover */\n",
       "#sk-container-id-3 div.sk-estimator:hover {\n",
       "  /* unfitted */\n",
       "  background-color: var(--sklearn-color-unfitted-level-2);\n",
       "}\n",
       "\n",
       "#sk-container-id-3 div.sk-estimator.fitted:hover {\n",
       "  /* fitted */\n",
       "  background-color: var(--sklearn-color-fitted-level-2);\n",
       "}\n",
       "\n",
       "/* Specification for estimator info (e.g. \"i\" and \"?\") */\n",
       "\n",
       "/* Common style for \"i\" and \"?\" */\n",
       "\n",
       ".sk-estimator-doc-link,\n",
       "a:link.sk-estimator-doc-link,\n",
       "a:visited.sk-estimator-doc-link {\n",
       "  float: right;\n",
       "  font-size: smaller;\n",
       "  line-height: 1em;\n",
       "  font-family: monospace;\n",
       "  background-color: var(--sklearn-color-background);\n",
       "  border-radius: 1em;\n",
       "  height: 1em;\n",
       "  width: 1em;\n",
       "  text-decoration: none !important;\n",
       "  margin-left: 1ex;\n",
       "  /* unfitted */\n",
       "  border: var(--sklearn-color-unfitted-level-1) 1pt solid;\n",
       "  color: var(--sklearn-color-unfitted-level-1);\n",
       "}\n",
       "\n",
       ".sk-estimator-doc-link.fitted,\n",
       "a:link.sk-estimator-doc-link.fitted,\n",
       "a:visited.sk-estimator-doc-link.fitted {\n",
       "  /* fitted */\n",
       "  border: var(--sklearn-color-fitted-level-1) 1pt solid;\n",
       "  color: var(--sklearn-color-fitted-level-1);\n",
       "}\n",
       "\n",
       "/* On hover */\n",
       "div.sk-estimator:hover .sk-estimator-doc-link:hover,\n",
       ".sk-estimator-doc-link:hover,\n",
       "div.sk-label-container:hover .sk-estimator-doc-link:hover,\n",
       ".sk-estimator-doc-link:hover {\n",
       "  /* unfitted */\n",
       "  background-color: var(--sklearn-color-unfitted-level-3);\n",
       "  color: var(--sklearn-color-background);\n",
       "  text-decoration: none;\n",
       "}\n",
       "\n",
       "div.sk-estimator.fitted:hover .sk-estimator-doc-link.fitted:hover,\n",
       ".sk-estimator-doc-link.fitted:hover,\n",
       "div.sk-label-container:hover .sk-estimator-doc-link.fitted:hover,\n",
       ".sk-estimator-doc-link.fitted:hover {\n",
       "  /* fitted */\n",
       "  background-color: var(--sklearn-color-fitted-level-3);\n",
       "  color: var(--sklearn-color-background);\n",
       "  text-decoration: none;\n",
       "}\n",
       "\n",
       "/* Span, style for the box shown on hovering the info icon */\n",
       ".sk-estimator-doc-link span {\n",
       "  display: none;\n",
       "  z-index: 9999;\n",
       "  position: relative;\n",
       "  font-weight: normal;\n",
       "  right: .2ex;\n",
       "  padding: .5ex;\n",
       "  margin: .5ex;\n",
       "  width: min-content;\n",
       "  min-width: 20ex;\n",
       "  max-width: 50ex;\n",
       "  color: var(--sklearn-color-text);\n",
       "  box-shadow: 2pt 2pt 4pt #999;\n",
       "  /* unfitted */\n",
       "  background: var(--sklearn-color-unfitted-level-0);\n",
       "  border: .5pt solid var(--sklearn-color-unfitted-level-3);\n",
       "}\n",
       "\n",
       ".sk-estimator-doc-link.fitted span {\n",
       "  /* fitted */\n",
       "  background: var(--sklearn-color-fitted-level-0);\n",
       "  border: var(--sklearn-color-fitted-level-3);\n",
       "}\n",
       "\n",
       ".sk-estimator-doc-link:hover span {\n",
       "  display: block;\n",
       "}\n",
       "\n",
       "/* \"?\"-specific style due to the `<a>` HTML tag */\n",
       "\n",
       "#sk-container-id-3 a.estimator_doc_link {\n",
       "  float: right;\n",
       "  font-size: 1rem;\n",
       "  line-height: 1em;\n",
       "  font-family: monospace;\n",
       "  background-color: var(--sklearn-color-background);\n",
       "  border-radius: 1rem;\n",
       "  height: 1rem;\n",
       "  width: 1rem;\n",
       "  text-decoration: none;\n",
       "  /* unfitted */\n",
       "  color: var(--sklearn-color-unfitted-level-1);\n",
       "  border: var(--sklearn-color-unfitted-level-1) 1pt solid;\n",
       "}\n",
       "\n",
       "#sk-container-id-3 a.estimator_doc_link.fitted {\n",
       "  /* fitted */\n",
       "  border: var(--sklearn-color-fitted-level-1) 1pt solid;\n",
       "  color: var(--sklearn-color-fitted-level-1);\n",
       "}\n",
       "\n",
       "/* On hover */\n",
       "#sk-container-id-3 a.estimator_doc_link:hover {\n",
       "  /* unfitted */\n",
       "  background-color: var(--sklearn-color-unfitted-level-3);\n",
       "  color: var(--sklearn-color-background);\n",
       "  text-decoration: none;\n",
       "}\n",
       "\n",
       "#sk-container-id-3 a.estimator_doc_link.fitted:hover {\n",
       "  /* fitted */\n",
       "  background-color: var(--sklearn-color-fitted-level-3);\n",
       "}\n",
       "</style><div id=\"sk-container-id-3\" class=\"sk-top-container\"><div class=\"sk-text-repr-fallback\"><pre>DecisionTreeClassifier(random_state=42)</pre><b>In a Jupyter environment, please rerun this cell to show the HTML representation or trust the notebook. <br />On GitHub, the HTML representation is unable to render, please try loading this page with nbviewer.org.</b></div><div class=\"sk-container\" hidden><div class=\"sk-item\"><div class=\"sk-estimator fitted sk-toggleable\"><input class=\"sk-toggleable__control sk-hidden--visually\" id=\"sk-estimator-id-3\" type=\"checkbox\" checked><label for=\"sk-estimator-id-3\" class=\"sk-toggleable__label fitted sk-toggleable__label-arrow fitted\">&nbsp;&nbsp;DecisionTreeClassifier<a class=\"sk-estimator-doc-link fitted\" rel=\"noreferrer\" target=\"_blank\" href=\"https://scikit-learn.org/1.5/modules/generated/sklearn.tree.DecisionTreeClassifier.html\">?<span>Documentation for DecisionTreeClassifier</span></a><span class=\"sk-estimator-doc-link fitted\">i<span>Fitted</span></span></label><div class=\"sk-toggleable__content fitted\"><pre>DecisionTreeClassifier(random_state=42)</pre></div> </div></div></div></div>"
      ],
      "text/plain": [
       "DecisionTreeClassifier(random_state=42)"
      ]
     },
     "execution_count": 86,
     "metadata": {},
     "output_type": "execute_result"
    }
   ],
   "source": [
    "# will simply spilt the data into training and testing test set and build the model\n",
    "\n",
    "X_train,X_test,y_train,y_test=train_test_split(X,y,test_size=0.25,random_state=42)\n",
    "\n",
    "model1=DecisionTreeClassifier(random_state=42)\n",
    "model1.fit(X_train,y_train)"
   ]
  },
  {
   "cell_type": "code",
   "execution_count": 68,
   "id": "92344312",
   "metadata": {
    "scrolled": true
   },
   "outputs": [
    {
     "data": {
      "text/plain": [
       "['age',\n",
       " 'sex',\n",
       " 'cp',\n",
       " 'restbp',\n",
       " 'chol',\n",
       " 'fbs',\n",
       " 'restecg',\n",
       " 'thalach',\n",
       " 'exang',\n",
       " 'oldpeak',\n",
       " 'slope',\n",
       " 'ca',\n",
       " 'thal']"
      ]
     },
     "execution_count": 68,
     "metadata": {},
     "output_type": "execute_result"
    }
   ],
   "source": [
    "X.columns.to_list()"
   ]
  },
  {
   "cell_type": "code",
   "execution_count": 87,
   "id": "79ac4a5f-e4fb-4377-b5fd-820b6c4b1f24",
   "metadata": {},
   "outputs": [
    {
     "name": "stdout",
     "output_type": "stream",
     "text": [
      "(227, 13) (227,) (76, 13) (76,)\n"
     ]
    }
   ],
   "source": [
    "print(X_train.shape,y_train.shape,X_test.shape,y_test.shape)"
   ]
  },
  {
   "cell_type": "code",
   "execution_count": 88,
   "id": "8f802693",
   "metadata": {},
   "outputs": [
    {
     "data": {
      "image/png": "[encoded data removed]",
      "text/plain": [
       "<Figure size 1500x750 with 1 Axes>"
      ]
     },
     "metadata": {},
     "output_type": "display_data"
    },
    {
     "data": {
      "text/plain": [
       "<Figure size 640x480 with 0 Axes>"
      ]
     },
     "metadata": {},
     "output_type": "display_data"
    }
   ],
   "source": [
    "# Note will plot the tree and see its depth\n",
    "from sklearn.tree import plot_tree\n",
    "plt.figure(figsize=(15,7.5))\n",
    "plot_tree(model1,filled=True,class_names=['No HD','Yes HD'],feature_names=X.columns.to_list())\n",
    "plt.show()\n",
    "plt.savefig('new_image.jpg')\n"
   ]
  },
  {
   "cell_type": "markdown",
   "id": "3112023f",
   "metadata": {},
   "source": [
    "You can see over here the tree is very big because it has built to its complete depth now will prunning the tree if you won't prun the tree it leads to overfitting because its simply learning unwanted things to its complete depth"
   ]
  },
  {
   "cell_type": "code",
   "execution_count": 89,
   "id": "54cb1a60",
   "metadata": {},
   "outputs": [],
   "source": [
    "# Predicting for training and testing \n",
    "ytrain_pred = model1.predict(X_train)\n",
    "ytest_pred = model1.predict(X_test)"
   ]
  },
  {
   "cell_type": "code",
   "execution_count": 90,
   "id": "cb9fe291",
   "metadata": {},
   "outputs": [
    {
     "name": "stdout",
     "output_type": "stream",
     "text": [
      "Training Score 1.0, Testing Score 0.66\n"
     ]
    }
   ],
   "source": [
    "from sklearn.metrics import accuracy_score\n",
    "# Calculate metrics\n",
    "accuracy_train = accuracy_score(y_train, ytrain_pred)\n",
    "accuracy_test = accuracy_score(y_test, ytest_pred)\n",
    "\n",
    "print(f'Training Score {round(accuracy_train,2)}, Testing Score {round(accuracy_test,2)}')"
   ]
  },
  {
   "cell_type": "code",
   "execution_count": 91,
   "id": "a6451a6c",
   "metadata": {},
   "outputs": [
    {
     "name": "stdout",
     "output_type": "stream",
     "text": [
      "Training Score 1.0, Testing Score 0.66\n"
     ]
    }
   ],
   "source": [
    "# Model Evaluation\n",
    "\n",
    "train_score = model1.score(X_train,y_train)\n",
    "test_score = model1.score(X_test,y_test)\n",
    "print(f'Training Score {round(train_score,2)}, Testing Score {round(test_score,2)}')"
   ]
  },
  {
   "cell_type": "markdown",
   "id": "d7a9ff3f",
   "metadata": {},
   "source": [
    "### You can see that the dataset is overfitted, So we want to use pruning technique to cut down the tree"
   ]
  },
  {
   "cell_type": "code",
   "execution_count": 92,
   "id": "db015bc8",
   "metadata": {},
   "outputs": [
    {
     "data": {
      "text/plain": [
       "array([[125,   0],\n",
       "       [  0, 102]], dtype=int64)"
      ]
     },
     "execution_count": 92,
     "metadata": {},
     "output_type": "execute_result"
    }
   ],
   "source": [
    "confusion_matrix(y_train,ytrain_pred)"
   ]
  },
  {
   "cell_type": "code",
   "execution_count": 93,
   "id": "25dc3151",
   "metadata": {},
   "outputs": [
    {
     "data": {
      "text/plain": [
       "hd\n",
       "0    39\n",
       "1    37\n",
       "Name: count, dtype: int64"
      ]
     },
     "execution_count": 93,
     "metadata": {},
     "output_type": "execute_result"
    }
   ],
   "source": [
    "y_test.value_counts()"
   ]
  },
  {
   "cell_type": "code",
   "execution_count": 94,
   "id": "78353734",
   "metadata": {},
   "outputs": [
    {
     "data": {
      "text/plain": [
       "array([[24, 15],\n",
       "       [11, 26]], dtype=int64)"
      ]
     },
     "execution_count": 94,
     "metadata": {},
     "output_type": "execute_result"
    }
   ],
   "source": [
    "confusion_matrix(y_test,ytest_pred)"
   ]
  },
  {
   "cell_type": "code",
   "execution_count": 95,
   "id": "6970406f",
   "metadata": {},
   "outputs": [
    {
     "name": "stdout",
     "output_type": "stream",
     "text": [
      "              precision    recall  f1-score   support\n",
      "\n",
      "           0       1.00      1.00      1.00       125\n",
      "           1       1.00      1.00      1.00       102\n",
      "\n",
      "    accuracy                           1.00       227\n",
      "   macro avg       1.00      1.00      1.00       227\n",
      "weighted avg       1.00      1.00      1.00       227\n",
      "\n"
     ]
    }
   ],
   "source": [
    "print(classification_report(y_train,ytrain_pred))"
   ]
  },
  {
   "cell_type": "code",
   "execution_count": 96,
   "id": "65a7c6bb",
   "metadata": {},
   "outputs": [
    {
     "name": "stdout",
     "output_type": "stream",
     "text": [
      "              precision    recall  f1-score   support\n",
      "\n",
      "           0       0.69      0.62      0.65        39\n",
      "           1       0.63      0.70      0.67        37\n",
      "\n",
      "    accuracy                           0.66        76\n",
      "   macro avg       0.66      0.66      0.66        76\n",
      "weighted avg       0.66      0.66      0.66        76\n",
      "\n"
     ]
    }
   ],
   "source": [
    "print(classification_report(y_test,ytest_pred))"
   ]
  },
  {
   "cell_type": "code",
   "execution_count": 38,
   "id": "a5bf0346",
   "metadata": {},
   "outputs": [
    {
     "data": {
      "text/plain": [
       "37"
      ]
     },
     "execution_count": 38,
     "metadata": {},
     "output_type": "execute_result"
    }
   ],
   "source": [
    "26+11"
   ]
  },
  {
   "cell_type": "code",
   "execution_count": 39,
   "id": "e5106544",
   "metadata": {},
   "outputs": [
    {
     "data": {
      "text/plain": [
       "0.7027027027027027"
      ]
     },
     "execution_count": 39,
     "metadata": {},
     "output_type": "execute_result"
    }
   ],
   "source": [
    "(26/37)"
   ]
  },
  {
   "cell_type": "markdown",
   "id": "4788d1e8",
   "metadata": {},
   "source": [
    "In the Confusion matrix, We can see that the 24+15 = 39 people that does not have Heart Disease, 61.5%(24/39) correctly classified. And that the 26+11 = 37 people that have Heart Disease, 70.2% correctly classified. \n",
    "We can do better than this by overcoming the overfitting issue in the training dataset. So let's prune the tree. \n",
    "\n",
    "Pruning:-  In theory it will cut down the tree, If we use pruning it should solve the overfitting problem and give us better results"
   ]
  },
  {
   "cell_type": "markdown",
   "id": "1d3c2363",
   "metadata": {},
   "source": [
    "## Cost Complexity Pruning Part 1: Visualize alpha\n",
    "    #Regularization - To overcome the overfitting issue"
   ]
  },
  {
   "cell_type": "markdown",
   "id": "f666a02f",
   "metadata": {},
   "source": [
    "**Decision Tree** are notorious for being **overfit** to the **Training Dataset,** and there are a lot of parameters, like **max_depth** and **min_samples**, that are improves the accuracy with the **Testing Dataset**.\n",
    "\n",
    "Pruning a decision Tree is all about finding the right value for the pruning parameter, **alpha**, which controls how little or how much pruning happens.\n",
    "One way to find the optimal value for **alpha** is to plot the accuracy of the tree as a function of different values. we'll do this for both the **Training Dataset** and the **Testing Dataset**\n",
    "\n",
    "First, let's extract the different values of **alpha** that are avaliable for this tree and build a pruned tree for each value for **alpha**. **Note :** we omit this maximum value for alpha with **ccp_alphas=ccp_alphas[ : -1]** because it would prune all leaves, leaving us with only a root insted of a tree."
   ]
  },
  {
   "cell_type": "code",
   "execution_count": 97,
   "id": "dbd5c2b6",
   "metadata": {},
   "outputs": [
    {
     "data": {
      "text/plain": [
       "{'ccp_alphas': array([0.        , 0.00293686, 0.00400481, 0.00416055, 0.00430517,\n",
       "        0.00440529, 0.00453878, 0.00528634, 0.0056478 , 0.00572687,\n",
       "        0.00660793, 0.00660793, 0.00744519, 0.00788314, 0.00798279,\n",
       "        0.00800961, 0.00877544, 0.00899446, 0.01488222, 0.0154185 ,\n",
       "        0.01590662, 0.02686878, 0.02695892, 0.03428884, 0.04838798,\n",
       "        0.12494069]),\n",
       " 'impurities': array([0.        , 0.00587372, 0.01388333, 0.02220442, 0.03081476,\n",
       "        0.03962533, 0.04870289, 0.05927558, 0.06492338, 0.07637712,\n",
       "        0.08298505, 0.08959298, 0.09703817, 0.11280446, 0.13675283,\n",
       "        0.14476245, 0.16231333, 0.17130779, 0.18619001, 0.20160852,\n",
       "        0.23342176, 0.26029054, 0.28724946, 0.3215383 , 0.36992628,\n",
       "        0.49486697])}"
      ]
     },
     "execution_count": 97,
     "metadata": {},
     "output_type": "execute_result"
    }
   ],
   "source": [
    "a = model1.cost_complexity_pruning_path(X_train,y_train) \n",
    "a"
   ]
  },
  {
   "cell_type": "code",
   "execution_count": 98,
   "id": "72855f43",
   "metadata": {},
   "outputs": [
    {
     "data": {
      "text/plain": [
       "array([0.        , 0.00293686, 0.00400481, 0.00416055, 0.00430517,\n",
       "       0.00440529, 0.00453878, 0.00528634, 0.0056478 , 0.00572687,\n",
       "       0.00660793, 0.00660793, 0.00744519, 0.00788314, 0.00798279,\n",
       "       0.00800961, 0.00877544, 0.00899446, 0.01488222, 0.0154185 ,\n",
       "       0.01590662, 0.02686878, 0.02695892, 0.03428884, 0.04838798])"
      ]
     },
     "execution_count": 98,
     "metadata": {},
     "output_type": "execute_result"
    }
   ],
   "source": [
    "a['ccp_alphas'][0:-1]"
   ]
  },
  {
   "cell_type": "code",
   "execution_count": 99,
   "id": "23b2016f",
   "metadata": {},
   "outputs": [],
   "source": [
    "path=model1.cost_complexity_pruning_path(X_train,y_train)    # determine values for alpha\n",
    "ccp_alphas= path.ccp_alphas   # extract different values for alpha\n",
    "ccp_alphas = ccp_alphas[:-1]  # extract the maximum value for alpha"
   ]
  },
  {
   "cell_type": "code",
   "execution_count": 100,
   "id": "a66714da",
   "metadata": {},
   "outputs": [
    {
     "data": {
      "text/plain": [
       "25"
      ]
     },
     "execution_count": 100,
     "metadata": {},
     "output_type": "execute_result"
    }
   ],
   "source": [
    "len(ccp_alphas)"
   ]
  },
  {
   "cell_type": "code",
   "execution_count": 103,
   "id": "e705d37d",
   "metadata": {},
   "outputs": [],
   "source": [
    "models =[]  # create an array that we will put decision trees into\n",
    "\n",
    "## now create one decision tree per value for alpha and store it in the array\n",
    "for i in ccp_alphas:\n",
    "    model2=DecisionTreeClassifier(random_state=42,ccp_alpha=i)\n",
    "    model2.fit(X_train,y_train)\n",
    "    models.append(model2)"
   ]
  },
  {
   "cell_type": "code",
   "execution_count": 104,
   "id": "89f35313",
   "metadata": {},
   "outputs": [
    {
     "data": {
      "text/plain": [
       "[DecisionTreeClassifier(random_state=42),\n",
       " DecisionTreeClassifier(ccp_alpha=0.002936857562408223, random_state=42),\n",
       " DecisionTreeClassifier(ccp_alpha=0.004004805766920304, random_state=42),\n",
       " DecisionTreeClassifier(ccp_alpha=0.00416054821341165, random_state=42),\n",
       " DecisionTreeClassifier(ccp_alpha=0.004305166199439326, random_state=42),\n",
       " DecisionTreeClassifier(ccp_alpha=0.004405286343612336, random_state=42),\n",
       " DecisionTreeClassifier(ccp_alpha=0.004538779869176339, random_state=42),\n",
       " DecisionTreeClassifier(ccp_alpha=0.0052863436123348016, random_state=42),\n",
       " DecisionTreeClassifier(ccp_alpha=0.005647803004631198, random_state=42),\n",
       " DecisionTreeClassifier(ccp_alpha=0.005726872246696036, random_state=42),\n",
       " DecisionTreeClassifier(ccp_alpha=0.006607929515418502, random_state=42),\n",
       " DecisionTreeClassifier(ccp_alpha=0.006607929515418502, random_state=42),\n",
       " DecisionTreeClassifier(ccp_alpha=0.007445191539789264, random_state=42),\n",
       " DecisionTreeClassifier(ccp_alpha=0.007883143983306282, random_state=42),\n",
       " DecisionTreeClassifier(ccp_alpha=0.007982790916832322, random_state=42),\n",
       " DecisionTreeClassifier(ccp_alpha=0.008009611533840609, random_state=42),\n",
       " DecisionTreeClassifier(ccp_alpha=0.008775442812076241, random_state=42),\n",
       " DecisionTreeClassifier(ccp_alpha=0.008994459413001588, random_state=42),\n",
       " DecisionTreeClassifier(ccp_alpha=0.01488222396556231, random_state=42),\n",
       " DecisionTreeClassifier(ccp_alpha=0.015418502202643174, random_state=42),\n",
       " DecisionTreeClassifier(ccp_alpha=0.015906621101820857, random_state=42),\n",
       " DecisionTreeClassifier(ccp_alpha=0.026868782163520608, random_state=42),\n",
       " DecisionTreeClassifier(ccp_alpha=0.02695891980946244, random_state=42),\n",
       " DecisionTreeClassifier(ccp_alpha=0.03428883552412566, random_state=42),\n",
       " DecisionTreeClassifier(ccp_alpha=0.048387979147780036, random_state=42)]"
      ]
     },
     "execution_count": 104,
     "metadata": {},
     "output_type": "execute_result"
    }
   ],
   "source": [
    "# Now the Model has trained with different alpha values\n",
    "models"
   ]
  },
  {
   "cell_type": "code",
   "execution_count": 108,
   "id": "b26d3ef9-ed4c-4be2-9507-1eb36541dcdd",
   "metadata": {},
   "outputs": [
    {
     "data": {
      "image/png": "[encoded data removed]",
      "text/plain": [
       "<Figure size 640x480 with 1 Axes>"
      ]
     },
     "metadata": {},
     "output_type": "display_data"
    }
   ],
   "source": [
    "train = [i.score(X_train,y_train) for i in models]\n",
    "test = [a.score(X_test,y_test)for a in models]\n",
    "plt.plot(ccp_alphas,train,marker = '*',color = 'r',markerfacecolor = 'b',markeredgecolor = 'b',drawstyle = 'steps-post')\n",
    "plt.plot(ccp_alphas,test,marker = 'o',color = 'g',markerfacecolor = 'r',markeredgecolor = 'b',drawstyle = 'steps-post')\n",
    "plt.xlabel('alpha')\n",
    "plt.ylabel('accuracy')\n",
    "plt.xticks([0.0, 0.005, 0.01, 0.015, 0.02, 0.025, 0.03, 0.035, 0.04, 0.045,0.05])\n",
    "plt.grid()\n",
    "plt.legend()\n",
    "plt.show()"
   ]
  },
  {
   "cell_type": "code",
   "execution_count": 109,
   "id": "a4580ce4-4da8-4293-bcd4-977c7f12fff7",
   "metadata": {},
   "outputs": [
    {
     "data": {
      "text/plain": [
       "array([[118,   7],\n",
       "       [ 34,  68]], dtype=int64)"
      ]
     },
     "metadata": {},
     "output_type": "display_data"
    },
    {
     "data": {
      "text/plain": [
       "array([[36,  3],\n",
       "       [10, 27]], dtype=int64)"
      ]
     },
     "metadata": {},
     "output_type": "display_data"
    },
    {
     "name": "stdout",
     "output_type": "stream",
     "text": [
      "              precision    recall  f1-score   support\n",
      "\n",
      "           0       0.78      0.94      0.85       125\n",
      "           1       0.91      0.67      0.77       102\n",
      "\n",
      "    accuracy                           0.82       227\n",
      "   macro avg       0.84      0.81      0.81       227\n",
      "weighted avg       0.83      0.82      0.81       227\n",
      "\n",
      "              precision    recall  f1-score   support\n",
      "\n",
      "           0       0.78      0.92      0.85        39\n",
      "           1       0.90      0.73      0.81        37\n",
      "\n",
      "    accuracy                           0.83        76\n",
      "   macro avg       0.84      0.83      0.83        76\n",
      "weighted avg       0.84      0.83      0.83        76\n",
      "\n"
     ]
    }
   ],
   "source": [
    "model3=DecisionTreeClassifier(ccp_alpha = 0.026868782163520608)\n",
    "model3.fit(X_train,y_train)\n",
    "y_train_pred = model3.predict(X_train)\n",
    "y_test_pred = model3.predict(X_test)\n",
    "\n",
    "display(confusion_matrix(y_train,y_train_pred))\n",
    "display(confusion_matrix(y_test,y_test_pred))\n",
    "print(classification_report(y_train,y_train_pred))\n",
    "print(classification_report(y_test,y_test_pred))"
   ]
  },
  {
   "cell_type": "code",
   "execution_count": null,
   "id": "326e29cb-d759-4add-b1d2-4e41210ac685",
   "metadata": {},
   "outputs": [],
   "source": []
  },
  {
   "cell_type": "code",
   "execution_count": null,
   "id": "2890bdfc-ac19-4066-a369-ea97d6f1ded1",
   "metadata": {},
   "outputs": [],
   "source": []
  },
  {
   "cell_type": "code",
   "execution_count": null,
   "id": "8e638baf-bcd2-4c6d-854e-e94bef5de80e",
   "metadata": {},
   "outputs": [],
   "source": []
  },
  {
   "cell_type": "code",
   "execution_count": 55,
   "id": "dfbbfe95-0115-4c33-a4a4-b5f4fc3e8166",
   "metadata": {},
   "outputs": [
    {
     "data": {
      "text/plain": [
       "[1.0,\n",
       " 0.9955947136563876,\n",
       " 0.9911894273127754,\n",
       " 0.9823788546255506,\n",
       " 0.9823788546255506,\n",
       " 0.9779735682819384,\n",
       " 0.973568281938326,\n",
       " 0.9647577092511013,\n",
       " 0.960352422907489,\n",
       " 0.9559471365638766,\n",
       " 0.9383259911894273,\n",
       " 0.933920704845815,\n",
       " 0.9251101321585903,\n",
       " 0.9162995594713657,\n",
       " 0.9030837004405287,\n",
       " 0.9030837004405287,\n",
       " 0.8678414096916299,\n",
       " 0.8590308370044053,\n",
       " 0.8458149779735683,\n",
       " 0.8370044052863436,\n",
       " 0.8237885462555066,\n",
       " 0.801762114537445,\n",
       " 0.788546255506608,\n",
       " 0.7665198237885462]"
      ]
     },
     "execution_count": 55,
     "metadata": {},
     "output_type": "execute_result"
    }
   ],
   "source": [
    "train"
   ]
  },
  {
   "cell_type": "code",
   "execution_count": 56,
   "id": "6f25f59d-9d45-47e8-ba76-c9d81c41b496",
   "metadata": {},
   "outputs": [
    {
     "data": {
      "text/plain": [
       "[0.7368421052631579,\n",
       " 0.7368421052631579,\n",
       " 0.7368421052631579,\n",
       " 0.7368421052631579,\n",
       " 0.7368421052631579,\n",
       " 0.7368421052631579,\n",
       " 0.7368421052631579,\n",
       " 0.7368421052631579,\n",
       " 0.7368421052631579,\n",
       " 0.7368421052631579,\n",
       " 0.75,\n",
       " 0.7631578947368421,\n",
       " 0.7631578947368421,\n",
       " 0.7631578947368421,\n",
       " 0.7763157894736842,\n",
       " 0.7763157894736842,\n",
       " 0.7368421052631579,\n",
       " 0.7236842105263158,\n",
       " 0.7105263157894737,\n",
       " 0.7368421052631579,\n",
       " 0.7236842105263158,\n",
       " 0.6578947368421053,\n",
       " 0.6842105263157895,\n",
       " 0.75]"
      ]
     },
     "execution_count": 56,
     "metadata": {},
     "output_type": "execute_result"
    }
   ],
   "source": [
    "test"
   ]
  },
  {
   "cell_type": "code",
   "execution_count": 52,
   "id": "5d013296-aee5-40f4-a239-196350e826c2",
   "metadata": {},
   "outputs": [
    {
     "data": {
      "text/plain": [
       "24"
      ]
     },
     "execution_count": 52,
     "metadata": {},
     "output_type": "execute_result"
    }
   ],
   "source": [
    "len(models)"
   ]
  },
  {
   "cell_type": "markdown",
   "id": "b8a23ede",
   "metadata": {},
   "source": [
    "Now let's graph the accuracy of the trees using the **Training Dataset** and the **Testing Dataset** as a function of alpha."
   ]
  },
  {
   "cell_type": "code",
   "execution_count": 46,
   "id": "d8ba221a",
   "metadata": {},
   "outputs": [
    {
     "data": {
      "text/plain": [
       "{'ccp_alphas': array([0.        , 0.00396476, 0.00432371, 0.00587372, 0.00587372,\n",
       "        0.00660793, 0.00671282, 0.00734214, 0.00770925, 0.00783162,\n",
       "        0.00790552, 0.00854359, 0.00917768, 0.00998121, 0.01029312,\n",
       "        0.0111449 , 0.01303787, 0.01510384, 0.01651982, 0.0195384 ,\n",
       "        0.02191636, 0.02384817, 0.03210994, 0.03681596, 0.14001489]),\n",
       " 'impurities': array([0.        , 0.00792952, 0.01657693, 0.02245064, 0.02832436,\n",
       "        0.03493229, 0.04164511, 0.05632939, 0.06403865, 0.07187027,\n",
       "        0.10349235, 0.11203594, 0.12121362, 0.13119483, 0.14148795,\n",
       "        0.16377774, 0.18985347, 0.20495731, 0.22147714, 0.24101554,\n",
       "        0.2629319 , 0.28678007, 0.31889001, 0.35570596, 0.49572086])}"
      ]
     },
     "execution_count": 46,
     "metadata": {},
     "output_type": "execute_result"
    }
   ],
   "source": [
    "penalty = model1.cost_complexity_pruning_path(X_train,y_train)\n",
    "penalty"
   ]
  },
  {
   "cell_type": "code",
   "execution_count": 47,
   "id": "cc3f13b5",
   "metadata": {},
   "outputs": [
    {
     "data": {
      "text/plain": [
       "array([0.        , 0.00396476, 0.00432371, 0.00587372, 0.00587372,\n",
       "       0.00660793, 0.00671282, 0.00734214, 0.00770925, 0.00783162,\n",
       "       0.00790552, 0.00854359, 0.00917768, 0.00998121, 0.01029312,\n",
       "       0.0111449 , 0.01303787, 0.01510384, 0.01651982, 0.0195384 ,\n",
       "       0.02191636, 0.02384817, 0.03210994, 0.03681596])"
      ]
     },
     "execution_count": 47,
     "metadata": {},
     "output_type": "execute_result"
    }
   ],
   "source": [
    "alpha_values = penalty['ccp_alphas'][:-1]\n",
    "alpha_values"
   ]
  },
  {
   "cell_type": "code",
   "execution_count": 48,
   "id": "434e1cb5",
   "metadata": {},
   "outputs": [
    {
     "data": {
      "text/plain": [
       "0.801762114537445"
      ]
     },
     "metadata": {},
     "output_type": "display_data"
    },
    {
     "data": {
      "text/plain": [
       "0.6578947368421053"
      ]
     },
     "metadata": {},
     "output_type": "display_data"
    }
   ],
   "source": [
    "dt = DecisionTreeClassifier(random_state=0,ccp_alpha=0.026868782163520608)\n",
    "dt.fit(X_train,y_train)\n",
    "display(dt.score(X_train,y_train))\n",
    "display(dt.score(X_test,y_test))"
   ]
  },
  {
   "cell_type": "code",
   "execution_count": 49,
   "id": "ca0de554",
   "metadata": {},
   "outputs": [],
   "source": [
    "models = []\n",
    "\n",
    "for i in alpha_values:\n",
    "    dt = DecisionTreeClassifier(random_state=0,ccp_alpha=i)\n",
    "    model = dt.fit(X_train,y_train)\n",
    "    models.append(model)"
   ]
  },
  {
   "cell_type": "code",
   "execution_count": 50,
   "id": "1c32e28c",
   "metadata": {
    "scrolled": true
   },
   "outputs": [
    {
     "data": {
      "text/plain": [
       "0.023848166672187067"
      ]
     },
     "execution_count": 50,
     "metadata": {},
     "output_type": "execute_result"
    }
   ],
   "source": [
    "alpha_values[21]"
   ]
  },
  {
   "cell_type": "code",
   "execution_count": 51,
   "id": "639a5978",
   "metadata": {},
   "outputs": [
    {
     "ename": "NameError",
     "evalue": "name 'train' is not defined",
     "output_type": "error",
     "traceback": [
      "\u001b[1;31m---------------------------------------------------------------------------\u001b[0m",
      "\u001b[1;31mNameError\u001b[0m                                 Traceback (most recent call last)",
      "Cell \u001b[1;32mIn[51], line 1\u001b[0m\n\u001b[1;32m----> 1\u001b[0m \u001b[38;5;28mabs\u001b[39m(pd\u001b[38;5;241m.\u001b[39mSeries(train) \u001b[38;5;241m-\u001b[39m pd\u001b[38;5;241m.\u001b[39mSeries(test))\n",
      "\u001b[1;31mNameError\u001b[0m: name 'train' is not defined"
     ]
    }
   ],
   "source": [
    "abs(pd.Series(train) - pd.Series(test))"
   ]
  },
  {
   "cell_type": "code",
   "execution_count": null,
   "id": "27838f68",
   "metadata": {},
   "outputs": [],
   "source": [
    "train = [i.score(X_train,y_train)   for i in models]\n",
    "test = [j.score(X_test,y_test)  for j in models]\n",
    "\n",
    "plt.plot(alpha_values,train,marker = '*')\n",
    "plt.plot(alpha_values,test,marker = '*')\n",
    "plt.xticks(np.arange(0,0.051,0.005))\n",
    "plt.show()"
   ]
  },
  {
   "cell_type": "code",
   "execution_count": null,
   "id": "d4ccbca1",
   "metadata": {},
   "outputs": [],
   "source": [
    "train_scores=[model.score(X_train,y_train) for model in models]\n",
    "test_scores=[model.score(X_test,y_test) for model in models]\n",
    "\n",
    "\n",
    "plt.plot(ccp_alphas,train_scores,marker='o',label='train')\n",
    "plt.plot(ccp_alphas,test_scores,marker='o',label='test')\n",
    "plt.xlabel('alpha')\n",
    "plt.ylabel('accuracy')\n",
    "plt.xticks([0.0, 0.005, 0.01, 0.015, 0.02, 0.025, 0.03, 0.035, 0.04, 0.045,0.05])\n",
    "\n",
    "plt.legend()\n",
    "plt.show()"
   ]
  },
  {
   "cell_type": "code",
   "execution_count": null,
   "id": "012d8efb",
   "metadata": {},
   "outputs": [],
   "source": [
    "train_scores=[model.score(X_train,y_train) for model in models]\n",
    "test_scores=[model.score(X_test,y_test) for model in models]\n",
    "\n",
    "\n",
    "plt.plot(ccp_alphas,train_scores,marker='o',label='train',drawstyle='steps-post')\n",
    "plt.plot(ccp_alphas,test_scores,marker='o',label='test',drawstyle='steps-post')\n",
    "plt.xlabel('alpha')\n",
    "plt.ylabel('accuracy')\n",
    "plt.xticks([0.0, 0.005, 0.01, 0.015, 0.02, 0.025, 0.03, 0.035, 0.04, 0.045,0.05])\n",
    "plt.grid()\n",
    "plt.legend()\n",
    "plt.show()"
   ]
  },
  {
   "cell_type": "code",
   "execution_count": null,
   "id": "11deac95",
   "metadata": {},
   "outputs": [],
   "source": [
    "model3 = DecisionTreeClassifier(random_state=42,ccp_alpha=0.027)"
   ]
  },
  {
   "cell_type": "code",
   "execution_count": null,
   "id": "6f63142f",
   "metadata": {},
   "outputs": [],
   "source": [
    "model3.fit(X_train,y_train)\n",
    "train_score = model3.score(X_train,y_train)\n",
    "test_score = model3.score(X_test,y_test)\n",
    "print(f'Training Score {round(train_score,2)}, Testing Score {round(test_score,2)}')"
   ]
  },
  {
   "cell_type": "code",
   "execution_count": null,
   "id": "73b194ff",
   "metadata": {},
   "outputs": [],
   "source": [
    "ytest_pred = model3.predict(X_test)\n",
    "\n",
    "confusion_matrix(y_test,ytest_pred)"
   ]
  },
  {
   "cell_type": "code",
   "execution_count": null,
   "id": "1c8c098b",
   "metadata": {},
   "outputs": [],
   "source": [
    "print(classification_report(y_test,ytest_pred))"
   ]
  },
  {
   "cell_type": "markdown",
   "id": "9b6d2fa2",
   "metadata": {},
   "source": [
    "In the graph above, we see that the accuracy for the **Testing Dataset** hits its maximum value when alpha is about **0.027**. After this value for alpha, the accuracy of the Training Dataset drops off and that suggests we should set **ccp_alpha=0.027**\n",
    "\n",
    "**Note**: When we apply **Cost Complexity Pruning** to a **Classification Tree**, values for alpha go from **0 to 1**, and the values of alpha for **Regression Tree** can be much larger it can go from **0 to positive infinity**.\n",
    "\n",
    "Since there are many ways we could have divided the original dataset into **Training** and **Testing** datasets, how do we used the best **Training Dataset** and how do we know we used the best **Testing Dataset?** Typically, we answer this questions with **10-Fold Cross Validation.** So that's what we're going to do now, and we'll do it with the **Cross_validation  using cross_val_score()** function."
   ]
  },
  {
   "cell_type": "markdown",
   "id": "58a9c6d0",
   "metadata": {},
   "source": [
    "## Cost Complexity Pruning Part 2: Cross Validation for Finding the Best Alpha\n",
    "\n",
    "The graph we just drew suggested one values for alpha, 0.027, but another set of data might suggest another optimal value.\n",
    "\n",
    "Now will try with different train and test set using cross validation"
   ]
  },
  {
   "cell_type": "code",
   "execution_count": 110,
   "id": "fa05cd18",
   "metadata": {},
   "outputs": [],
   "source": [
    "from sklearn.model_selection import cross_val_score"
   ]
  },
  {
   "cell_type": "code",
   "execution_count": 111,
   "id": "fc1a6dd7",
   "metadata": {},
   "outputs": [
    {
     "data": {
      "text/plain": [
       "array([0.65217391, 0.82608696, 0.7826087 , 0.86956522, 0.7826087 ,\n",
       "       0.7826087 , 0.82608696, 0.68181818, 0.81818182, 0.81818182])"
      ]
     },
     "execution_count": 111,
     "metadata": {},
     "output_type": "execute_result"
    }
   ],
   "source": [
    "cross_val_score(model3,X_train,y_train,cv=10)"
   ]
  },
  {
   "cell_type": "code",
   "execution_count": 112,
   "id": "716e8163",
   "metadata": {},
   "outputs": [
    {
     "data": {
      "text/plain": [
       "<Axes: xlabel='tree'>"
      ]
     },
     "execution_count": 112,
     "metadata": {},
     "output_type": "execute_result"
    },
    {
     "data": {
      "image/png": "[encoded data removed]",
      "text/plain": [
       "<Figure size 640x480 with 1 Axes>"
      ]
     },
     "metadata": {},
     "output_type": "display_data"
    }
   ],
   "source": [
    "# now use 10-fold cross validation create 10 different training and testing datasets that are then used to train and test tree.\n",
    "## Note:- We use 10-fold because we don't have tons of data..\n",
    "scores=cross_val_score(model3,X_train,y_train,cv=10)\n",
    "df=pd.DataFrame(data={'tree':range(1,11),'accuracy':scores})\n",
    "\n",
    "df.plot(x='tree',y='accuracy',marker='o',linestyle='--')"
   ]
  },
  {
   "cell_type": "code",
   "execution_count": 113,
   "id": "be084366",
   "metadata": {},
   "outputs": [
    {
     "data": {
      "text/plain": [
       "0.7839920948616601"
      ]
     },
     "execution_count": 113,
     "metadata": {},
     "output_type": "execute_result"
    }
   ],
   "source": [
    "scores.mean()"
   ]
  },
  {
   "cell_type": "code",
   "execution_count": 114,
   "id": "392f8b89",
   "metadata": {},
   "outputs": [
    {
     "data": {
      "text/plain": [
       "array([0.65217391, 0.82608696, 0.7826087 , 0.86956522, 0.7826087 ,\n",
       "       0.7826087 , 0.82608696, 0.68181818, 0.81818182, 0.81818182])"
      ]
     },
     "execution_count": 114,
     "metadata": {},
     "output_type": "execute_result"
    }
   ],
   "source": [
    "scores"
   ]
  },
  {
   "cell_type": "markdown",
   "id": "c47f6363",
   "metadata": {},
   "source": [
    "The graph above shows that using different **Training** and **Testing** data with the same alpha resulted in different accuracies, suggesting that alpha is positive to the datasets. So, insted of picking a single **Training** dataset and single **Testing** dataset, let's use **Cross Validation** to find the optimal value or ccp_alpha."
   ]
  },
  {
   "cell_type": "code",
   "execution_count": 115,
   "id": "5417e449",
   "metadata": {},
   "outputs": [
    {
     "data": {
      "text/plain": [
       "array([0.        , 0.00293686, 0.00400481, 0.00416055, 0.00430517,\n",
       "       0.00440529, 0.00453878, 0.00528634, 0.0056478 , 0.00572687,\n",
       "       0.00660793, 0.00660793, 0.00744519, 0.00788314, 0.00798279,\n",
       "       0.00800961, 0.00877544, 0.00899446, 0.01488222, 0.0154185 ,\n",
       "       0.01590662, 0.02686878, 0.02695892, 0.03428884, 0.04838798])"
      ]
     },
     "execution_count": 115,
     "metadata": {},
     "output_type": "execute_result"
    }
   ],
   "source": [
    "ccp_alphas"
   ]
  },
  {
   "cell_type": "code",
   "execution_count": 119,
   "id": "50ce5456",
   "metadata": {},
   "outputs": [
    {
     "ename": "NameError",
     "evalue": "name 'alpha_results' is not defined",
     "output_type": "error",
     "traceback": [
      "\u001b[1;31m---------------------------------------------------------------------------\u001b[0m",
      "\u001b[1;31mNameError\u001b[0m                                 Traceback (most recent call last)",
      "Cell \u001b[1;32mIn[119], line 1\u001b[0m\n\u001b[1;32m----> 1\u001b[0m alpha_results\u001b[38;5;241m.\u001b[39mmean_accuracy\u001b[38;5;241m.\u001b[39mmax()\n",
      "\u001b[1;31mNameError\u001b[0m: name 'alpha_results' is not defined"
     ]
    }
   ],
   "source": [
    "alpha_results.mean_accuracy.max()"
   ]
  },
  {
   "cell_type": "code",
   "execution_count": 120,
   "id": "dd7bc657",
   "metadata": {},
   "outputs": [
    {
     "data": {
      "text/plain": [
       "hd\n",
       "0    125\n",
       "1    102\n",
       "Name: count, dtype: int64"
      ]
     },
     "execution_count": 120,
     "metadata": {},
     "output_type": "execute_result"
    }
   ],
   "source": [
    "y_train.value_counts()"
   ]
  },
  {
   "cell_type": "code",
   "execution_count": 121,
   "id": "985ff4d5",
   "metadata": {
    "scrolled": true
   },
   "outputs": [
    {
     "ename": "NameError",
     "evalue": "name 'alpha_results' is not defined",
     "output_type": "error",
     "traceback": [
      "\u001b[1;31m---------------------------------------------------------------------------\u001b[0m",
      "\u001b[1;31mNameError\u001b[0m                                 Traceback (most recent call last)",
      "Cell \u001b[1;32mIn[121], line 1\u001b[0m\n\u001b[1;32m----> 1\u001b[0m alpha_results\u001b[38;5;241m.\u001b[39msort_values(\u001b[38;5;124m'\u001b[39m\u001b[38;5;124mmean_accuracy\u001b[39m\u001b[38;5;124m'\u001b[39m,ascending \u001b[38;5;241m=\u001b[39m \u001b[38;5;28;01mFalse\u001b[39;00m)\n",
      "\u001b[1;31mNameError\u001b[0m: name 'alpha_results' is not defined"
     ]
    }
   ],
   "source": [
    "alpha_results.sort_values('mean_accuracy',ascending = False)"
   ]
  },
  {
   "cell_type": "code",
   "execution_count": 122,
   "id": "4a7ddf23",
   "metadata": {},
   "outputs": [
    {
     "ename": "NameError",
     "evalue": "name 'alpha_results' is not defined",
     "output_type": "error",
     "traceback": [
      "\u001b[1;31m---------------------------------------------------------------------------\u001b[0m",
      "\u001b[1;31mNameError\u001b[0m                                 Traceback (most recent call last)",
      "Cell \u001b[1;32mIn[122], line 1\u001b[0m\n\u001b[1;32m----> 1\u001b[0m alpha_results\n",
      "\u001b[1;31mNameError\u001b[0m: name 'alpha_results' is not defined"
     ]
    }
   ],
   "source": [
    "alpha_results"
   ]
  },
  {
   "cell_type": "code",
   "execution_count": 123,
   "id": "bedbf899",
   "metadata": {},
   "outputs": [
    {
     "data": {
      "image/png": "[encoded data removed]",
      "text/plain": [
       "<Figure size 640x480 with 1 Axes>"
      ]
     },
     "metadata": {},
     "output_type": "display_data"
    }
   ],
   "source": [
    "# create an array to store the results of each fold during cross validations\n",
    "alpha_loop_values=[]\n",
    "\n",
    "## For each candidate value for alpha, we will run 5-fold cross validation.\n",
    "## Then we will store the mean and standard deviation of the scores (The accuracy) for each call to cross_val_score in alpha_loop_values\n",
    "\n",
    "for i in ccp_alphas:\n",
    "    model4=DecisionTreeClassifier(random_state=0,ccp_alpha=i)\n",
    "    scores=cross_val_score(model4,X_train,y_train,cv=5)\n",
    "    alpha_loop_values.append([i,np.mean(scores),np.std(scores)])\n",
    "    \n",
    "## Now we can draw a graph of the means and standard deviations of the scores for each candidate  value for alpha\n",
    "\n",
    "alpha_results = pd.DataFrame(alpha_loop_values,columns=['alpha','mean_accuracy','std'])\n",
    "\n",
    "alpha_results.plot(x='alpha',y='mean_accuracy',yerr='std',marker='o',linestyle='--')\n",
    "plt.xticks([0.0, 0.005, 0.01, 0.015, 0.02, 0.025, 0.03, 0.035, 0.04, 0.045,0.05])\n",
    "plt.grid()\n",
    "plt.show()"
   ]
  },
  {
   "cell_type": "code",
   "execution_count": 124,
   "id": "59a8ee2c",
   "metadata": {},
   "outputs": [
    {
     "data": {
      "text/html": [
       "<div>\n",
       "<style scoped>\n",
       "    .dataframe tbody tr th:only-of-type {\n",
       "        vertical-align: middle;\n",
       "    }\n",
       "\n",
       "    .dataframe tbody tr th {\n",
       "        vertical-align: top;\n",
       "    }\n",
       "\n",
       "    .dataframe thead th {\n",
       "        text-align: right;\n",
       "    }\n",
       "</style>\n",
       "<table border=\"1\" class=\"dataframe\">\n",
       "  <thead>\n",
       "    <tr style=\"text-align: right;\">\n",
       "      <th></th>\n",
       "      <th>alpha</th>\n",
       "      <th>mean_accuracy</th>\n",
       "      <th>std</th>\n",
       "    </tr>\n",
       "  </thead>\n",
       "  <tbody>\n",
       "    <tr>\n",
       "      <th>0</th>\n",
       "      <td>0.000000</td>\n",
       "      <td>0.735459</td>\n",
       "      <td>0.072367</td>\n",
       "    </tr>\n",
       "    <tr>\n",
       "      <th>1</th>\n",
       "      <td>0.002937</td>\n",
       "      <td>0.735459</td>\n",
       "      <td>0.072367</td>\n",
       "    </tr>\n",
       "    <tr>\n",
       "      <th>2</th>\n",
       "      <td>0.004005</td>\n",
       "      <td>0.735459</td>\n",
       "      <td>0.072367</td>\n",
       "    </tr>\n",
       "    <tr>\n",
       "      <th>3</th>\n",
       "      <td>0.004161</td>\n",
       "      <td>0.735459</td>\n",
       "      <td>0.072367</td>\n",
       "    </tr>\n",
       "    <tr>\n",
       "      <th>4</th>\n",
       "      <td>0.004305</td>\n",
       "      <td>0.735459</td>\n",
       "      <td>0.072367</td>\n",
       "    </tr>\n",
       "    <tr>\n",
       "      <th>5</th>\n",
       "      <td>0.004405</td>\n",
       "      <td>0.735459</td>\n",
       "      <td>0.072367</td>\n",
       "    </tr>\n",
       "    <tr>\n",
       "      <th>6</th>\n",
       "      <td>0.004539</td>\n",
       "      <td>0.735459</td>\n",
       "      <td>0.072367</td>\n",
       "    </tr>\n",
       "    <tr>\n",
       "      <th>7</th>\n",
       "      <td>0.005286</td>\n",
       "      <td>0.735459</td>\n",
       "      <td>0.072367</td>\n",
       "    </tr>\n",
       "    <tr>\n",
       "      <th>8</th>\n",
       "      <td>0.005648</td>\n",
       "      <td>0.739903</td>\n",
       "      <td>0.067135</td>\n",
       "    </tr>\n",
       "    <tr>\n",
       "      <th>9</th>\n",
       "      <td>0.005727</td>\n",
       "      <td>0.739903</td>\n",
       "      <td>0.067135</td>\n",
       "    </tr>\n",
       "    <tr>\n",
       "      <th>10</th>\n",
       "      <td>0.006608</td>\n",
       "      <td>0.739903</td>\n",
       "      <td>0.067135</td>\n",
       "    </tr>\n",
       "    <tr>\n",
       "      <th>11</th>\n",
       "      <td>0.006608</td>\n",
       "      <td>0.739903</td>\n",
       "      <td>0.067135</td>\n",
       "    </tr>\n",
       "    <tr>\n",
       "      <th>12</th>\n",
       "      <td>0.007445</td>\n",
       "      <td>0.757391</td>\n",
       "      <td>0.071039</td>\n",
       "    </tr>\n",
       "    <tr>\n",
       "      <th>13</th>\n",
       "      <td>0.007883</td>\n",
       "      <td>0.753043</td>\n",
       "      <td>0.065847</td>\n",
       "    </tr>\n",
       "    <tr>\n",
       "      <th>14</th>\n",
       "      <td>0.007983</td>\n",
       "      <td>0.753043</td>\n",
       "      <td>0.065847</td>\n",
       "    </tr>\n",
       "    <tr>\n",
       "      <th>15</th>\n",
       "      <td>0.008010</td>\n",
       "      <td>0.753043</td>\n",
       "      <td>0.065847</td>\n",
       "    </tr>\n",
       "    <tr>\n",
       "      <th>16</th>\n",
       "      <td>0.008775</td>\n",
       "      <td>0.757391</td>\n",
       "      <td>0.068327</td>\n",
       "    </tr>\n",
       "    <tr>\n",
       "      <th>17</th>\n",
       "      <td>0.008994</td>\n",
       "      <td>0.761836</td>\n",
       "      <td>0.064332</td>\n",
       "    </tr>\n",
       "    <tr>\n",
       "      <th>18</th>\n",
       "      <td>0.014882</td>\n",
       "      <td>0.762126</td>\n",
       "      <td>0.060116</td>\n",
       "    </tr>\n",
       "    <tr>\n",
       "      <th>19</th>\n",
       "      <td>0.015419</td>\n",
       "      <td>0.762126</td>\n",
       "      <td>0.060116</td>\n",
       "    </tr>\n",
       "    <tr>\n",
       "      <th>20</th>\n",
       "      <td>0.015907</td>\n",
       "      <td>0.762126</td>\n",
       "      <td>0.060116</td>\n",
       "    </tr>\n",
       "    <tr>\n",
       "      <th>21</th>\n",
       "      <td>0.026869</td>\n",
       "      <td>0.727053</td>\n",
       "      <td>0.044242</td>\n",
       "    </tr>\n",
       "    <tr>\n",
       "      <th>22</th>\n",
       "      <td>0.026959</td>\n",
       "      <td>0.727053</td>\n",
       "      <td>0.044242</td>\n",
       "    </tr>\n",
       "    <tr>\n",
       "      <th>23</th>\n",
       "      <td>0.034289</td>\n",
       "      <td>0.740193</td>\n",
       "      <td>0.046178</td>\n",
       "    </tr>\n",
       "    <tr>\n",
       "      <th>24</th>\n",
       "      <td>0.048388</td>\n",
       "      <td>0.713430</td>\n",
       "      <td>0.040711</td>\n",
       "    </tr>\n",
       "  </tbody>\n",
       "</table>\n",
       "</div>"
      ],
      "text/plain": [
       "       alpha  mean_accuracy       std\n",
       "0   0.000000       0.735459  0.072367\n",
       "1   0.002937       0.735459  0.072367\n",
       "2   0.004005       0.735459  0.072367\n",
       "3   0.004161       0.735459  0.072367\n",
       "4   0.004305       0.735459  0.072367\n",
       "5   0.004405       0.735459  0.072367\n",
       "6   0.004539       0.735459  0.072367\n",
       "7   0.005286       0.735459  0.072367\n",
       "8   0.005648       0.739903  0.067135\n",
       "9   0.005727       0.739903  0.067135\n",
       "10  0.006608       0.739903  0.067135\n",
       "11  0.006608       0.739903  0.067135\n",
       "12  0.007445       0.757391  0.071039\n",
       "13  0.007883       0.753043  0.065847\n",
       "14  0.007983       0.753043  0.065847\n",
       "15  0.008010       0.753043  0.065847\n",
       "16  0.008775       0.757391  0.068327\n",
       "17  0.008994       0.761836  0.064332\n",
       "18  0.014882       0.762126  0.060116\n",
       "19  0.015419       0.762126  0.060116\n",
       "20  0.015907       0.762126  0.060116\n",
       "21  0.026869       0.727053  0.044242\n",
       "22  0.026959       0.727053  0.044242\n",
       "23  0.034289       0.740193  0.046178\n",
       "24  0.048388       0.713430  0.040711"
      ]
     },
     "execution_count": 124,
     "metadata": {},
     "output_type": "execute_result"
    }
   ],
   "source": [
    "alpha_results"
   ]
  },
  {
   "cell_type": "markdown",
   "id": "5509c0d7",
   "metadata": {},
   "source": [
    "Using cross validation, we can see that the alpha value for 0.015 the average accuracy will be 76%"
   ]
  },
  {
   "cell_type": "code",
   "execution_count": 125,
   "id": "c58b0668",
   "metadata": {},
   "outputs": [
    {
     "data": {
      "text/plain": [
       "array([0.0154185])"
      ]
     },
     "execution_count": 125,
     "metadata": {},
     "output_type": "execute_result"
    }
   ],
   "source": [
    "alpha_results[(alpha_results['alpha']>0.015) & (alpha_results['alpha']<0.0156)]['alpha'].values"
   ]
  },
  {
   "cell_type": "markdown",
   "id": "36435017",
   "metadata": {},
   "source": [
    "### Now will find the ideal CCP value"
   ]
  },
  {
   "cell_type": "code",
   "execution_count": 126,
   "id": "596da8f2",
   "metadata": {},
   "outputs": [
    {
     "data": {
      "text/plain": [
       "19    0.015419\n",
       "Name: alpha, dtype: float64"
      ]
     },
     "execution_count": 126,
     "metadata": {},
     "output_type": "execute_result"
    }
   ],
   "source": [
    "ideal_ccp_alpha = alpha_results[(alpha_results['alpha']>0.015) & (alpha_results['alpha']<0.0155)]['alpha']\n",
    "ideal_ccp_alpha"
   ]
  },
  {
   "cell_type": "code",
   "execution_count": 127,
   "id": "12943e87",
   "metadata": {},
   "outputs": [
    {
     "data": {
      "text/plain": [
       "array([0.0154185])"
      ]
     },
     "execution_count": 127,
     "metadata": {},
     "output_type": "execute_result"
    }
   ],
   "source": [
    "ideal_ccp_alpha.values"
   ]
  },
  {
   "cell_type": "markdown",
   "id": "ce6eee13",
   "metadata": {},
   "source": [
    "#### Now we got the ideal value for alpha and we can build, evaluate and draw the final classification Tree"
   ]
  },
  {
   "cell_type": "markdown",
   "id": "1a7b6704",
   "metadata": {},
   "source": [
    "## Building, Evaluating, Drawing, and Interpreting the Final Classification Tree"
   ]
  },
  {
   "cell_type": "markdown",
   "id": "0bc78dc7",
   "metadata": {},
   "source": [
    "Now that we have the ideal value for alpha we can build the final **Classification Tree** by setting ccp_alpha=ideal_ccp_alpha."
   ]
  },
  {
   "cell_type": "code",
   "execution_count": 128,
   "id": "5ad74126",
   "metadata": {},
   "outputs": [],
   "source": [
    "## Build and train a new decision tree, only this time use the optimal value for alpha\n",
    "\n",
    "model5=DecisionTreeClassifier(random_state=42,ccp_alpha= 0.015419)"
   ]
  },
  {
   "cell_type": "code",
   "execution_count": 129,
   "id": "5d4df0b5",
   "metadata": {},
   "outputs": [
    {
     "data": {
      "text/html": [
       "<style>#sk-container-id-4 {\n",
       "  /* Definition of color scheme common for light and dark mode */\n",
       "  --sklearn-color-text: black;\n",
       "  --sklearn-color-line: gray;\n",
       "  /* Definition of color scheme for unfitted estimators */\n",
       "  --sklearn-color-unfitted-level-0: #fff5e6;\n",
       "  --sklearn-color-unfitted-level-1: #f6e4d2;\n",
       "  --sklearn-color-unfitted-level-2: #ffe0b3;\n",
       "  --sklearn-color-unfitted-level-3: chocolate;\n",
       "  /* Definition of color scheme for fitted estimators */\n",
       "  --sklearn-color-fitted-level-0: #f0f8ff;\n",
       "  --sklearn-color-fitted-level-1: #d4ebff;\n",
       "  --sklearn-color-fitted-level-2: #b3dbfd;\n",
       "  --sklearn-color-fitted-level-3: cornflowerblue;\n",
       "\n",
       "  /* Specific color for light theme */\n",
       "  --sklearn-color-text-on-default-background: var(--sg-text-color, var(--theme-code-foreground, var(--jp-content-font-color1, black)));\n",
       "  --sklearn-color-background: var(--sg-background-color, var(--theme-background, var(--jp-layout-color0, white)));\n",
       "  --sklearn-color-border-box: var(--sg-text-color, var(--theme-code-foreground, var(--jp-content-font-color1, black)));\n",
       "  --sklearn-color-icon: #696969;\n",
       "\n",
       "  @media (prefers-color-scheme: dark) {\n",
       "    /* Redefinition of color scheme for dark theme */\n",
       "    --sklearn-color-text-on-default-background: var(--sg-text-color, var(--theme-code-foreground, var(--jp-content-font-color1, white)));\n",
       "    --sklearn-color-background: var(--sg-background-color, var(--theme-background, var(--jp-layout-color0, #111)));\n",
       "    --sklearn-color-border-box: var(--sg-text-color, var(--theme-code-foreground, var(--jp-content-font-color1, white)));\n",
       "    --sklearn-color-icon: #878787;\n",
       "  }\n",
       "}\n",
       "\n",
       "#sk-container-id-4 {\n",
       "  color: var(--sklearn-color-text);\n",
       "}\n",
       "\n",
       "#sk-container-id-4 pre {\n",
       "  padding: 0;\n",
       "}\n",
       "\n",
       "#sk-container-id-4 input.sk-hidden--visually {\n",
       "  border: 0;\n",
       "  clip: rect(1px 1px 1px 1px);\n",
       "  clip: rect(1px, 1px, 1px, 1px);\n",
       "  height: 1px;\n",
       "  margin: -1px;\n",
       "  overflow: hidden;\n",
       "  padding: 0;\n",
       "  position: absolute;\n",
       "  width: 1px;\n",
       "}\n",
       "\n",
       "#sk-container-id-4 div.sk-dashed-wrapped {\n",
       "  border: 1px dashed var(--sklearn-color-line);\n",
       "  margin: 0 0.4em 0.5em 0.4em;\n",
       "  box-sizing: border-box;\n",
       "  padding-bottom: 0.4em;\n",
       "  background-color: var(--sklearn-color-background);\n",
       "}\n",
       "\n",
       "#sk-container-id-4 div.sk-container {\n",
       "  /* jupyter's `normalize.less` sets `[hidden] { display: none; }`\n",
       "     but bootstrap.min.css set `[hidden] { display: none !important; }`\n",
       "     so we also need the `!important` here to be able to override the\n",
       "     default hidden behavior on the sphinx rendered scikit-learn.org.\n",
       "     See: https://github.com/scikit-learn/scikit-learn/issues/21755 */\n",
       "  display: inline-block !important;\n",
       "  position: relative;\n",
       "}\n",
       "\n",
       "#sk-container-id-4 div.sk-text-repr-fallback {\n",
       "  display: none;\n",
       "}\n",
       "\n",
       "div.sk-parallel-item,\n",
       "div.sk-serial,\n",
       "div.sk-item {\n",
       "  /* draw centered vertical line to link estimators */\n",
       "  background-image: linear-gradient(var(--sklearn-color-text-on-default-background), var(--sklearn-color-text-on-default-background));\n",
       "  background-size: 2px 100%;\n",
       "  background-repeat: no-repeat;\n",
       "  background-position: center center;\n",
       "}\n",
       "\n",
       "/* Parallel-specific style estimator block */\n",
       "\n",
       "#sk-container-id-4 div.sk-parallel-item::after {\n",
       "  content: \"\";\n",
       "  width: 100%;\n",
       "  border-bottom: 2px solid var(--sklearn-color-text-on-default-background);\n",
       "  flex-grow: 1;\n",
       "}\n",
       "\n",
       "#sk-container-id-4 div.sk-parallel {\n",
       "  display: flex;\n",
       "  align-items: stretch;\n",
       "  justify-content: center;\n",
       "  background-color: var(--sklearn-color-background);\n",
       "  position: relative;\n",
       "}\n",
       "\n",
       "#sk-container-id-4 div.sk-parallel-item {\n",
       "  display: flex;\n",
       "  flex-direction: column;\n",
       "}\n",
       "\n",
       "#sk-container-id-4 div.sk-parallel-item:first-child::after {\n",
       "  align-self: flex-end;\n",
       "  width: 50%;\n",
       "}\n",
       "\n",
       "#sk-container-id-4 div.sk-parallel-item:last-child::after {\n",
       "  align-self: flex-start;\n",
       "  width: 50%;\n",
       "}\n",
       "\n",
       "#sk-container-id-4 div.sk-parallel-item:only-child::after {\n",
       "  width: 0;\n",
       "}\n",
       "\n",
       "/* Serial-specific style estimator block */\n",
       "\n",
       "#sk-container-id-4 div.sk-serial {\n",
       "  display: flex;\n",
       "  flex-direction: column;\n",
       "  align-items: center;\n",
       "  background-color: var(--sklearn-color-background);\n",
       "  padding-right: 1em;\n",
       "  padding-left: 1em;\n",
       "}\n",
       "\n",
       "\n",
       "/* Toggleable style: style used for estimator/Pipeline/ColumnTransformer box that is\n",
       "clickable and can be expanded/collapsed.\n",
       "- Pipeline and ColumnTransformer use this feature and define the default style\n",
       "- Estimators will overwrite some part of the style using the `sk-estimator` class\n",
       "*/\n",
       "\n",
       "/* Pipeline and ColumnTransformer style (default) */\n",
       "\n",
       "#sk-container-id-4 div.sk-toggleable {\n",
       "  /* Default theme specific background. It is overwritten whether we have a\n",
       "  specific estimator or a Pipeline/ColumnTransformer */\n",
       "  background-color: var(--sklearn-color-background);\n",
       "}\n",
       "\n",
       "/* Toggleable label */\n",
       "#sk-container-id-4 label.sk-toggleable__label {\n",
       "  cursor: pointer;\n",
       "  display: block;\n",
       "  width: 100%;\n",
       "  margin-bottom: 0;\n",
       "  padding: 0.5em;\n",
       "  box-sizing: border-box;\n",
       "  text-align: center;\n",
       "}\n",
       "\n",
       "#sk-container-id-4 label.sk-toggleable__label-arrow:before {\n",
       "  /* Arrow on the left of the label */\n",
       "  content: \"▸\";\n",
       "  float: left;\n",
       "  margin-right: 0.25em;\n",
       "  color: var(--sklearn-color-icon);\n",
       "}\n",
       "\n",
       "#sk-container-id-4 label.sk-toggleable__label-arrow:hover:before {\n",
       "  color: var(--sklearn-color-text);\n",
       "}\n",
       "\n",
       "/* Toggleable content - dropdown */\n",
       "\n",
       "#sk-container-id-4 div.sk-toggleable__content {\n",
       "  max-height: 0;\n",
       "  max-width: 0;\n",
       "  overflow: hidden;\n",
       "  text-align: left;\n",
       "  /* unfitted */\n",
       "  background-color: var(--sklearn-color-unfitted-level-0);\n",
       "}\n",
       "\n",
       "#sk-container-id-4 div.sk-toggleable__content.fitted {\n",
       "  /* fitted */\n",
       "  background-color: var(--sklearn-color-fitted-level-0);\n",
       "}\n",
       "\n",
       "#sk-container-id-4 div.sk-toggleable__content pre {\n",
       "  margin: 0.2em;\n",
       "  border-radius: 0.25em;\n",
       "  color: var(--sklearn-color-text);\n",
       "  /* unfitted */\n",
       "  background-color: var(--sklearn-color-unfitted-level-0);\n",
       "}\n",
       "\n",
       "#sk-container-id-4 div.sk-toggleable__content.fitted pre {\n",
       "  /* unfitted */\n",
       "  background-color: var(--sklearn-color-fitted-level-0);\n",
       "}\n",
       "\n",
       "#sk-container-id-4 input.sk-toggleable__control:checked~div.sk-toggleable__content {\n",
       "  /* Expand drop-down */\n",
       "  max-height: 200px;\n",
       "  max-width: 100%;\n",
       "  overflow: auto;\n",
       "}\n",
       "\n",
       "#sk-container-id-4 input.sk-toggleable__control:checked~label.sk-toggleable__label-arrow:before {\n",
       "  content: \"▾\";\n",
       "}\n",
       "\n",
       "/* Pipeline/ColumnTransformer-specific style */\n",
       "\n",
       "#sk-container-id-4 div.sk-label input.sk-toggleable__control:checked~label.sk-toggleable__label {\n",
       "  color: var(--sklearn-color-text);\n",
       "  background-color: var(--sklearn-color-unfitted-level-2);\n",
       "}\n",
       "\n",
       "#sk-container-id-4 div.sk-label.fitted input.sk-toggleable__control:checked~label.sk-toggleable__label {\n",
       "  background-color: var(--sklearn-color-fitted-level-2);\n",
       "}\n",
       "\n",
       "/* Estimator-specific style */\n",
       "\n",
       "/* Colorize estimator box */\n",
       "#sk-container-id-4 div.sk-estimator input.sk-toggleable__control:checked~label.sk-toggleable__label {\n",
       "  /* unfitted */\n",
       "  background-color: var(--sklearn-color-unfitted-level-2);\n",
       "}\n",
       "\n",
       "#sk-container-id-4 div.sk-estimator.fitted input.sk-toggleable__control:checked~label.sk-toggleable__label {\n",
       "  /* fitted */\n",
       "  background-color: var(--sklearn-color-fitted-level-2);\n",
       "}\n",
       "\n",
       "#sk-container-id-4 div.sk-label label.sk-toggleable__label,\n",
       "#sk-container-id-4 div.sk-label label {\n",
       "  /* The background is the default theme color */\n",
       "  color: var(--sklearn-color-text-on-default-background);\n",
       "}\n",
       "\n",
       "/* On hover, darken the color of the background */\n",
       "#sk-container-id-4 div.sk-label:hover label.sk-toggleable__label {\n",
       "  color: var(--sklearn-color-text);\n",
       "  background-color: var(--sklearn-color-unfitted-level-2);\n",
       "}\n",
       "\n",
       "/* Label box, darken color on hover, fitted */\n",
       "#sk-container-id-4 div.sk-label.fitted:hover label.sk-toggleable__label.fitted {\n",
       "  color: var(--sklearn-color-text);\n",
       "  background-color: var(--sklearn-color-fitted-level-2);\n",
       "}\n",
       "\n",
       "/* Estimator label */\n",
       "\n",
       "#sk-container-id-4 div.sk-label label {\n",
       "  font-family: monospace;\n",
       "  font-weight: bold;\n",
       "  display: inline-block;\n",
       "  line-height: 1.2em;\n",
       "}\n",
       "\n",
       "#sk-container-id-4 div.sk-label-container {\n",
       "  text-align: center;\n",
       "}\n",
       "\n",
       "/* Estimator-specific */\n",
       "#sk-container-id-4 div.sk-estimator {\n",
       "  font-family: monospace;\n",
       "  border: 1px dotted var(--sklearn-color-border-box);\n",
       "  border-radius: 0.25em;\n",
       "  box-sizing: border-box;\n",
       "  margin-bottom: 0.5em;\n",
       "  /* unfitted */\n",
       "  background-color: var(--sklearn-color-unfitted-level-0);\n",
       "}\n",
       "\n",
       "#sk-container-id-4 div.sk-estimator.fitted {\n",
       "  /* fitted */\n",
       "  background-color: var(--sklearn-color-fitted-level-0);\n",
       "}\n",
       "\n",
       "/* on hover */\n",
       "#sk-container-id-4 div.sk-estimator:hover {\n",
       "  /* unfitted */\n",
       "  background-color: var(--sklearn-color-unfitted-level-2);\n",
       "}\n",
       "\n",
       "#sk-container-id-4 div.sk-estimator.fitted:hover {\n",
       "  /* fitted */\n",
       "  background-color: var(--sklearn-color-fitted-level-2);\n",
       "}\n",
       "\n",
       "/* Specification for estimator info (e.g. \"i\" and \"?\") */\n",
       "\n",
       "/* Common style for \"i\" and \"?\" */\n",
       "\n",
       ".sk-estimator-doc-link,\n",
       "a:link.sk-estimator-doc-link,\n",
       "a:visited.sk-estimator-doc-link {\n",
       "  float: right;\n",
       "  font-size: smaller;\n",
       "  line-height: 1em;\n",
       "  font-family: monospace;\n",
       "  background-color: var(--sklearn-color-background);\n",
       "  border-radius: 1em;\n",
       "  height: 1em;\n",
       "  width: 1em;\n",
       "  text-decoration: none !important;\n",
       "  margin-left: 1ex;\n",
       "  /* unfitted */\n",
       "  border: var(--sklearn-color-unfitted-level-1) 1pt solid;\n",
       "  color: var(--sklearn-color-unfitted-level-1);\n",
       "}\n",
       "\n",
       ".sk-estimator-doc-link.fitted,\n",
       "a:link.sk-estimator-doc-link.fitted,\n",
       "a:visited.sk-estimator-doc-link.fitted {\n",
       "  /* fitted */\n",
       "  border: var(--sklearn-color-fitted-level-1) 1pt solid;\n",
       "  color: var(--sklearn-color-fitted-level-1);\n",
       "}\n",
       "\n",
       "/* On hover */\n",
       "div.sk-estimator:hover .sk-estimator-doc-link:hover,\n",
       ".sk-estimator-doc-link:hover,\n",
       "div.sk-label-container:hover .sk-estimator-doc-link:hover,\n",
       ".sk-estimator-doc-link:hover {\n",
       "  /* unfitted */\n",
       "  background-color: var(--sklearn-color-unfitted-level-3);\n",
       "  color: var(--sklearn-color-background);\n",
       "  text-decoration: none;\n",
       "}\n",
       "\n",
       "div.sk-estimator.fitted:hover .sk-estimator-doc-link.fitted:hover,\n",
       ".sk-estimator-doc-link.fitted:hover,\n",
       "div.sk-label-container:hover .sk-estimator-doc-link.fitted:hover,\n",
       ".sk-estimator-doc-link.fitted:hover {\n",
       "  /* fitted */\n",
       "  background-color: var(--sklearn-color-fitted-level-3);\n",
       "  color: var(--sklearn-color-background);\n",
       "  text-decoration: none;\n",
       "}\n",
       "\n",
       "/* Span, style for the box shown on hovering the info icon */\n",
       ".sk-estimator-doc-link span {\n",
       "  display: none;\n",
       "  z-index: 9999;\n",
       "  position: relative;\n",
       "  font-weight: normal;\n",
       "  right: .2ex;\n",
       "  padding: .5ex;\n",
       "  margin: .5ex;\n",
       "  width: min-content;\n",
       "  min-width: 20ex;\n",
       "  max-width: 50ex;\n",
       "  color: var(--sklearn-color-text);\n",
       "  box-shadow: 2pt 2pt 4pt #999;\n",
       "  /* unfitted */\n",
       "  background: var(--sklearn-color-unfitted-level-0);\n",
       "  border: .5pt solid var(--sklearn-color-unfitted-level-3);\n",
       "}\n",
       "\n",
       ".sk-estimator-doc-link.fitted span {\n",
       "  /* fitted */\n",
       "  background: var(--sklearn-color-fitted-level-0);\n",
       "  border: var(--sklearn-color-fitted-level-3);\n",
       "}\n",
       "\n",
       ".sk-estimator-doc-link:hover span {\n",
       "  display: block;\n",
       "}\n",
       "\n",
       "/* \"?\"-specific style due to the `<a>` HTML tag */\n",
       "\n",
       "#sk-container-id-4 a.estimator_doc_link {\n",
       "  float: right;\n",
       "  font-size: 1rem;\n",
       "  line-height: 1em;\n",
       "  font-family: monospace;\n",
       "  background-color: var(--sklearn-color-background);\n",
       "  border-radius: 1rem;\n",
       "  height: 1rem;\n",
       "  width: 1rem;\n",
       "  text-decoration: none;\n",
       "  /* unfitted */\n",
       "  color: var(--sklearn-color-unfitted-level-1);\n",
       "  border: var(--sklearn-color-unfitted-level-1) 1pt solid;\n",
       "}\n",
       "\n",
       "#sk-container-id-4 a.estimator_doc_link.fitted {\n",
       "  /* fitted */\n",
       "  border: var(--sklearn-color-fitted-level-1) 1pt solid;\n",
       "  color: var(--sklearn-color-fitted-level-1);\n",
       "}\n",
       "\n",
       "/* On hover */\n",
       "#sk-container-id-4 a.estimator_doc_link:hover {\n",
       "  /* unfitted */\n",
       "  background-color: var(--sklearn-color-unfitted-level-3);\n",
       "  color: var(--sklearn-color-background);\n",
       "  text-decoration: none;\n",
       "}\n",
       "\n",
       "#sk-container-id-4 a.estimator_doc_link.fitted:hover {\n",
       "  /* fitted */\n",
       "  background-color: var(--sklearn-color-fitted-level-3);\n",
       "}\n",
       "</style><div id=\"sk-container-id-4\" class=\"sk-top-container\"><div class=\"sk-text-repr-fallback\"><pre>DecisionTreeClassifier(ccp_alpha=0.015419, random_state=42)</pre><b>In a Jupyter environment, please rerun this cell to show the HTML representation or trust the notebook. <br />On GitHub, the HTML representation is unable to render, please try loading this page with nbviewer.org.</b></div><div class=\"sk-container\" hidden><div class=\"sk-item\"><div class=\"sk-estimator fitted sk-toggleable\"><input class=\"sk-toggleable__control sk-hidden--visually\" id=\"sk-estimator-id-4\" type=\"checkbox\" checked><label for=\"sk-estimator-id-4\" class=\"sk-toggleable__label fitted sk-toggleable__label-arrow fitted\">&nbsp;&nbsp;DecisionTreeClassifier<a class=\"sk-estimator-doc-link fitted\" rel=\"noreferrer\" target=\"_blank\" href=\"https://scikit-learn.org/1.5/modules/generated/sklearn.tree.DecisionTreeClassifier.html\">?<span>Documentation for DecisionTreeClassifier</span></a><span class=\"sk-estimator-doc-link fitted\">i<span>Fitted</span></span></label><div class=\"sk-toggleable__content fitted\"><pre>DecisionTreeClassifier(ccp_alpha=0.015419, random_state=42)</pre></div> </div></div></div></div>"
      ],
      "text/plain": [
       "DecisionTreeClassifier(ccp_alpha=0.015419, random_state=42)"
      ]
     },
     "execution_count": 129,
     "metadata": {},
     "output_type": "execute_result"
    }
   ],
   "source": [
    "model5.fit(X_train,y_train)"
   ]
  },
  {
   "cell_type": "code",
   "execution_count": 130,
   "id": "c8c7257c",
   "metadata": {},
   "outputs": [],
   "source": [
    "# Predicting for training and testing \n",
    "ytrain_pred = model5.predict(X_train)\n",
    "ytest_pred = model5.predict(X_test)"
   ]
  },
  {
   "cell_type": "code",
   "execution_count": 131,
   "id": "a78f5626",
   "metadata": {},
   "outputs": [
    {
     "name": "stdout",
     "output_type": "stream",
     "text": [
      "Training Score 0.88, Testing Score 0.83\n"
     ]
    }
   ],
   "source": [
    "# Model Evaluation\n",
    "\n",
    "train_score = model5.score(X_train,y_train)\n",
    "test_score = model5.score(X_test,y_test)\n",
    "print(f'Training Score {round(train_score,2)}, Testing Score {round(test_score,2)}')"
   ]
  },
  {
   "cell_type": "code",
   "execution_count": 132,
   "id": "fd420ef8",
   "metadata": {},
   "outputs": [
    {
     "data": {
      "text/plain": [
       "array([[117,   8],\n",
       "       [ 19,  83]], dtype=int64)"
      ]
     },
     "execution_count": 132,
     "metadata": {},
     "output_type": "execute_result"
    }
   ],
   "source": [
    "confusion_matrix(y_train,ytrain_pred)"
   ]
  },
  {
   "cell_type": "code",
   "execution_count": 133,
   "id": "83f21757",
   "metadata": {},
   "outputs": [
    {
     "data": {
      "text/plain": [
       "array([[33,  6],\n",
       "       [ 7, 30]], dtype=int64)"
      ]
     },
     "execution_count": 133,
     "metadata": {},
     "output_type": "execute_result"
    }
   ],
   "source": [
    "confusion_matrix(y_test,ytest_pred)"
   ]
  },
  {
   "cell_type": "code",
   "execution_count": 134,
   "id": "dcd05b8d",
   "metadata": {},
   "outputs": [
    {
     "name": "stdout",
     "output_type": "stream",
     "text": [
      "hd\n",
      "0    125\n",
      "1    102\n",
      "Name: count, dtype: int64 hd\n",
      "0    39\n",
      "1    37\n",
      "Name: count, dtype: int64\n"
     ]
    }
   ],
   "source": [
    "print(y_train.value_counts(),y_test.value_counts())"
   ]
  },
  {
   "cell_type": "code",
   "execution_count": null,
   "id": "e73b48cb",
   "metadata": {},
   "outputs": [],
   "source": [
    "print(classification_report(y_train,ytrain_pred))"
   ]
  },
  {
   "cell_type": "code",
   "execution_count": 135,
   "id": "b579246c",
   "metadata": {
    "scrolled": true
   },
   "outputs": [
    {
     "name": "stdout",
     "output_type": "stream",
     "text": [
      "              precision    recall  f1-score   support\n",
      "\n",
      "           0       0.82      0.85      0.84        39\n",
      "           1       0.83      0.81      0.82        37\n",
      "\n",
      "    accuracy                           0.83        76\n",
      "   macro avg       0.83      0.83      0.83        76\n",
      "weighted avg       0.83      0.83      0.83        76\n",
      "\n"
     ]
    }
   ],
   "source": [
    "print(classification_report(y_test,ytest_pred))"
   ]
  },
  {
   "cell_type": "markdown",
   "id": "0d908495",
   "metadata": {},
   "source": [
    "### We see that pruned tree is better classifing over full sized tree."
   ]
  },
  {
   "cell_type": "code",
   "execution_count": 136,
   "id": "ffcf664b",
   "metadata": {},
   "outputs": [
    {
     "data": {
      "image/png": "[encoded data removed]",
      "text/plain": [
       "<Figure size 1500x750 with 1 Axes>"
      ]
     },
     "metadata": {},
     "output_type": "display_data"
    }
   ],
   "source": [
    "plt.figure(figsize=(15,7.5))\n",
    "plot_tree(model5,filled=True,rounded=True,class_names=['No HD','Yes HD'],feature_names=X.columns.to_list())\n",
    "plt.show()"
   ]
  },
  {
   "cell_type": "code",
   "execution_count": null,
   "id": "dd599a2d",
   "metadata": {},
   "outputs": [],
   "source": []
  },
  {
   "cell_type": "code",
   "execution_count": null,
   "id": "785ba877",
   "metadata": {},
   "outputs": [],
   "source": []
  }
 ],
 "metadata": {
  "kernelspec": {
   "display_name": "Python 3 (ipykernel)",
   "language": "python",
   "name": "python3"
  },
  "language_info": {
   "codemirror_mode": {
    "name": "ipython",
    "version": 3
   },
   "file_extension": ".py",
   "mimetype": "text/x-python",
   "name": "python",
   "nbconvert_exporter": "python",
   "pygments_lexer": "ipython3",
   "version": "3.12.7"
  }
 },
 "nbformat": 4,
 "nbformat_minor": 5
}
